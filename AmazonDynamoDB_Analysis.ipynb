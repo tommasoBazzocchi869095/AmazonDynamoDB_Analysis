{
 "cells": [
  {
   "cell_type": "markdown",
   "id": "668e5dd4-7b2a-41cc-a27a-7664e12bef3e",
   "metadata": {
    "tags": []
   },
   "source": [
    "# **Amazon DynamoDB**"
   ]
  },
  {
   "cell_type": "markdown",
   "id": "63463102-94e1-4d87-9add-f515ad9b85dc",
   "metadata": {
    "tags": []
   },
   "source": [
    "**Amazon DynamoDB** è un è un **servizio cloud** interamente gestito da **Amazon Web Services (AWS)**, cui si accede attraverso **API** da qualsiasi **sistema operativo**.\n",
    "\n",
    "Per utilizzarlo è possibile utilizzare lo [SDK](https://docs.aws.amazon.com/amazondynamodb/latest/APIReference/API_Operations.html) di **AWS**, per esempio tramite la libreria **python** <code>boto3</code>. Essendo un **servizio cloud**, **AWS** si occupa di tutte le attività di gestione del database, inclusa la configurazione, l'aggiornamento, il backup e il ripristino dei dati. Il **costo del servizio** varia in base a diversi fattori, come le **capacità di richieste di lettura e scrittura**, la **capacità di archiviazione dati** e le modalità di **backup e ripristino**. Una **descrizione dettagliata** dei vari **costi del serivizio** è disponibile al [seguente link](https://aws.amazon.com/it/dynamodb/pricing/on-demand/)."
   ]
  },
  {
   "cell_type": "markdown",
   "id": "7f1655a6-1084-4177-8829-a419e3d88835",
   "metadata": {},
   "source": [
    "## **Vantaggi**:"
   ]
  },
  {
   "cell_type": "markdown",
   "id": "2aec1371-f3bb-449e-9de5-cb505abcff4a",
   "metadata": {},
   "source": [
    "Le **caratteristiche più rilevanti** del **DBMS** sono le seguenti: \n",
    " \n",
    "- **Modello chiave-valore**: DynamoDB utilizza un modello di dati chiave-valore, che offre **flessibilità** nella struttura dei dati. Si può aggiungere, rimuovere o modificare gli attributi dei dati senza dover definire uno schema rigido in anticipo;\n",
    "- **Funzionalità di query flessibili**: DynamoDB offre opzioni flessibili per interrogare i dati. Si può effettuare query basate sulla chiave di partizione o utilizzare operazioni di scansione per recuperare dati in base a determinati criteri;\n",
    "- **Supporto alle transazioni ACID**: Le transazioni DynamoDB forniscono agli sviluppatori **atomicità**, **consistenza**, **isolamento** e **durabilità** **(ACID)** su una o più tabelle in un unico account AWS e in un’unica regione;\n",
    "- **Definzione di indici secondari (globali o locali)**: DynamoDB supporta **indici globali o locali** per consentire ricerche efficienti su attributi non chiave;\n",
    "- **Scalabilità automatica**: DynamoDB **scala automaticamente** la capacità di lettura e scrittura per gestire il carico di lavoro in modo efficace. Può gestire carichi di lavoro di qualsiasi dimensione senza richiedere intervento manuale, garantendo **prestazioni elevate** e una **risposta rapida** agli accessi ai dati; \n",
    "- **Alta disponibilità e durabilità**: DynamoDB **replica** i dati in più zone di disponibilità all'interno di una regione AWS, garantendo **disponibilità** e **durabilità** elevate dei dati; \n",
    "- **Portabilità**: il servizio è facilmente accedibile da qualsiasi **sistema operativo** attraverso le sue **API**."
   ]
  },
  {
   "cell_type": "markdown",
   "id": "321b6ee3-c9dd-4822-837e-6b4a54cd1eef",
   "metadata": {},
   "source": [
    "## **Svantaggi**"
   ]
  },
  {
   "cell_type": "markdown",
   "id": "9757164e-4633-4b60-b7b4-32914179d18c",
   "metadata": {},
   "source": [
    "Principali svantaggi di **DynamoDB**:\n",
    "- Il **modello di costo** può essere difficile da capire a volte. Ciò può rendere difficile prevedere i costi;\n",
    "- **DynamoDB** non offre **JOINS** e **chiavi esterne**;\n",
    "- **DynamoDB** non offre diverse **funzionalità di query** (**raggruppamenti**, **ordinamenti su attributi non chiave**, **operazioni di aggregazione**, ...)."
   ]
  },
  {
   "cell_type": "markdown",
   "id": "ad3689e7-bdf4-46eb-b92d-32b770bcb88d",
   "metadata": {},
   "source": [
    "## **Organizzazioni** che utilizzano **DynamoDB**"
   ]
  },
  {
   "cell_type": "markdown",
   "id": "5da2098e-2cdd-4841-9765-60999f1a29c0",
   "metadata": {},
   "source": [
    "Alcune delle più importanti **organizzazioni** che utilizzano **DynamoDB** sono:\n",
    "- **Amazon**\n",
    "- **Netflix**\n",
    "- **Samsung**\n",
    "- **Snapchat**\n",
    "- **New Yotk Times**"
   ]
  },
  {
   "cell_type": "markdown",
   "id": "a7ece0a5-b5b6-46b2-a96d-e22f3a057895",
   "metadata": {},
   "source": [
    "# **Libreria** <code>boto3</code>"
   ]
  },
  {
   "cell_type": "markdown",
   "id": "160faa59-2e2f-4a4c-b1f9-dd72a0d8f6af",
   "metadata": {},
   "source": [
    "Una delle **librerie** più utilizzate per accedere al servizio **DynamoDB** è <code>boto3</code>: essa fornisce un'implementazione **python** alle **API** del servizio.\n",
    "\n",
    "La **documentazione completa** si trova al [seguente link](https://boto3.amazonaws.com/v1/documentation/api/latest/index.html)."
   ]
  },
  {
   "cell_type": "markdown",
   "id": "81f87cf5-5686-439f-a191-9b9657b91de8",
   "metadata": {},
   "source": [
    "## Installazione <code>boto3</code>"
   ]
  },
  {
   "cell_type": "code",
   "execution_count": 1,
   "id": "53a2fd23-ff1f-4bc4-9e02-753d6a3d5f80",
   "metadata": {
    "tags": []
   },
   "outputs": [
    {
     "name": "stdout",
     "output_type": "stream",
     "text": [
      "Requirement already satisfied: boto3 in /opt/conda/lib/python3.10/site-packages (1.26.133)\n",
      "Requirement already satisfied: botocore<1.30.0,>=1.29.133 in /opt/conda/lib/python3.10/site-packages (from boto3) (1.29.133)\n",
      "Requirement already satisfied: jmespath<2.0.0,>=0.7.1 in /opt/conda/lib/python3.10/site-packages (from boto3) (1.0.1)\n",
      "Requirement already satisfied: s3transfer<0.7.0,>=0.6.0 in /opt/conda/lib/python3.10/site-packages (from boto3) (0.6.1)\n",
      "Requirement already satisfied: python-dateutil<3.0.0,>=2.1 in /opt/conda/lib/python3.10/site-packages (from botocore<1.30.0,>=1.29.133->boto3) (2.8.2)\n",
      "Requirement already satisfied: urllib3<1.27,>=1.25.4 in /opt/conda/lib/python3.10/site-packages (from botocore<1.30.0,>=1.29.133->boto3) (1.26.15)\n",
      "Requirement already satisfied: six>=1.5 in /opt/conda/lib/python3.10/site-packages (from python-dateutil<3.0.0,>=2.1->botocore<1.30.0,>=1.29.133->boto3) (1.16.0)\n",
      "Note: you may need to restart the kernel to use updated packages.\n"
     ]
    }
   ],
   "source": [
    "pip install boto3"
   ]
  },
  {
   "cell_type": "markdown",
   "id": "1eaff813-be13-472b-a312-6cd1badeae8c",
   "metadata": {},
   "source": [
    "### Librerie di comodo"
   ]
  },
  {
   "cell_type": "markdown",
   "id": "6fddb54b-6ab0-4239-b2d6-691a12fc7a8f",
   "metadata": {},
   "source": [
    "<code>qtdm</code>: utilizzata per visualizzare avanzamento dei cicli"
   ]
  },
  {
   "cell_type": "code",
   "execution_count": 2,
   "id": "4c52315b-8f15-4b69-81d4-ff0d367423d7",
   "metadata": {
    "tags": []
   },
   "outputs": [
    {
     "name": "stdout",
     "output_type": "stream",
     "text": [
      "Requirement already satisfied: tqdm in /opt/conda/lib/python3.10/site-packages (4.65.0)\n",
      "Note: you may need to restart the kernel to use updated packages.\n"
     ]
    }
   ],
   "source": [
    "pip install tqdm"
   ]
  },
  {
   "cell_type": "markdown",
   "id": "34663a26-30e8-416a-9e3e-184b01ceed28",
   "metadata": {},
   "source": [
    "<code>prettytable</code>: utilizzata per stampare risultati di query in forma tabellare"
   ]
  },
  {
   "cell_type": "code",
   "execution_count": 3,
   "id": "6e86dcb2-e929-45cd-a449-2fc0cdb7137c",
   "metadata": {
    "tags": []
   },
   "outputs": [
    {
     "name": "stdout",
     "output_type": "stream",
     "text": [
      "Requirement already satisfied: prettytable in /opt/conda/lib/python3.10/site-packages (3.7.0)\n",
      "Requirement already satisfied: wcwidth in /opt/conda/lib/python3.10/site-packages (from prettytable) (0.2.6)\n",
      "Note: you may need to restart the kernel to use updated packages.\n"
     ]
    }
   ],
   "source": [
    "pip install -U prettytable"
   ]
  },
  {
   "cell_type": "markdown",
   "id": "cb97a28e-e8cb-4e86-aab6-db0584b05fbe",
   "metadata": {},
   "source": [
    "## Importazione **librerie** e **moduli**"
   ]
  },
  {
   "cell_type": "code",
   "execution_count": 4,
   "id": "d198929e-78af-4626-8c49-8887f2c0e55b",
   "metadata": {
    "tags": []
   },
   "outputs": [],
   "source": [
    "import boto3\n",
    "from boto3.dynamodb.conditions import *"
   ]
  },
  {
   "cell_type": "code",
   "execution_count": 5,
   "id": "3288acb4-79e6-483a-b4f5-c56cebd15390",
   "metadata": {
    "tags": []
   },
   "outputs": [],
   "source": [
    "from tqdm import tqdm"
   ]
  },
  {
   "cell_type": "code",
   "execution_count": 6,
   "id": "e1601e4a-7003-4828-8a1a-21943db93c5c",
   "metadata": {
    "tags": []
   },
   "outputs": [],
   "source": [
    "from prettytable import PrettyTable"
   ]
  },
  {
   "cell_type": "code",
   "execution_count": 7,
   "id": "cea97e45-b170-4947-888a-a8f129cc79f4",
   "metadata": {
    "tags": []
   },
   "outputs": [],
   "source": [
    "import time"
   ]
  },
  {
   "cell_type": "markdown",
   "id": "92cbdcbd-2227-44d9-8c13-865f86ff783c",
   "metadata": {},
   "source": [
    "## Funzione per stampa tabellare"
   ]
  },
  {
   "cell_type": "code",
   "execution_count": 8,
   "id": "5be2730f-94fa-40f1-b3bf-358e058cbefb",
   "metadata": {
    "tags": []
   },
   "outputs": [],
   "source": [
    "def prettify_table(record_list, projection_list = None):\n",
    "    out_table = PrettyTable()\n",
    "    if projection_list == None:\n",
    "        out_table.field_names = list(record_list[0].keys())\n",
    "        out_table.add_rows([[record[field] for field in record.keys()] for record in record_list])\n",
    "    else:\n",
    "        out_table.field_names = projection_list\n",
    "        out_table.add_rows([[record[field] for field in projection_list] for record in record_list])\n",
    "    return out_table"
   ]
  },
  {
   "cell_type": "markdown",
   "id": "5a8c88a6-7533-4adc-ab66-5b7dac1cf065",
   "metadata": {},
   "source": [
    "# **Creazione** e **connessione** al DB"
   ]
  },
  {
   "cell_type": "markdown",
   "id": "196da757-bc0e-4531-8c46-b2633a5cfcb3",
   "metadata": {},
   "source": [
    "Per l'**analisi del database** verrà usata la versione [DynamoDB-local](https://hub.docker.com/r/amazon/dynamodb-local), che permette di testare gratuitamente il servizio tramite **docker**."
   ]
  },
  {
   "cell_type": "code",
   "execution_count": 9,
   "id": "75c74903-d798-4b57-8875-5ae023710c4e",
   "metadata": {
    "tags": []
   },
   "outputs": [],
   "source": [
    "dynamoDB_client = boto3.client('dynamodb', \n",
    "                               endpoint_url='http://dynamoDB:8000', \n",
    "                               region_name=\"localhost\", \n",
    "                               aws_access_key_id=\"false\", \n",
    "                               aws_secret_access_key=\"false\", \n",
    "                               aws_session_token=\"false\")"
   ]
  },
  {
   "cell_type": "code",
   "execution_count": 10,
   "id": "817fbc05-58bb-4bb4-add8-86fe15f1c260",
   "metadata": {
    "tags": []
   },
   "outputs": [
    {
     "data": {
      "text/plain": [
       "<botocore.client.DynamoDB at 0x7f90fc77f0d0>"
      ]
     },
     "execution_count": 10,
     "metadata": {},
     "output_type": "execute_result"
    }
   ],
   "source": [
    "dynamoDB_client"
   ]
  },
  {
   "cell_type": "code",
   "execution_count": 11,
   "id": "1e8d41a4-77a7-432d-91d8-93d8ac29cdbc",
   "metadata": {
    "tags": []
   },
   "outputs": [],
   "source": [
    "dynamoDB_resource = boto3.resource('dynamodb',\n",
    "                                   endpoint_url='http://dynamoDB:8000',\n",
    "                                   region_name=\"localhost\",\n",
    "                                   aws_access_key_id=\"false\",\n",
    "                                   aws_secret_access_key=\"false\",\n",
    "                                   aws_session_token=\"false\")"
   ]
  },
  {
   "cell_type": "code",
   "execution_count": 12,
   "id": "e7f5252b-1113-4e60-9cf2-c4d12d745407",
   "metadata": {
    "tags": []
   },
   "outputs": [
    {
     "data": {
      "text/plain": [
       "dynamodb.ServiceResource()"
      ]
     },
     "execution_count": 12,
     "metadata": {},
     "output_type": "execute_result"
    }
   ],
   "source": [
    "dynamoDB_resource"
   ]
  },
  {
   "cell_type": "markdown",
   "id": "6f9bf832-0a30-4943-b902-232ea0c05837",
   "metadata": {},
   "source": [
    "## **Dataset** utilizzato\n",
    "Raccolta di tutti i **tornei ATP** di **tennis** del 2022 in formato <code>JSON</code>"
   ]
  },
  {
   "cell_type": "code",
   "execution_count": 13,
   "id": "62e7c5e4-f5f3-4cc2-8ed0-67a36460ee50",
   "metadata": {
    "tags": []
   },
   "outputs": [],
   "source": [
    "import json"
   ]
  },
  {
   "cell_type": "code",
   "execution_count": 14,
   "id": "8028bb9b-a1e6-471f-9865-053fbb16e50b",
   "metadata": {
    "tags": []
   },
   "outputs": [],
   "source": [
    "with open('atp_2022.json', \"r\") as i_file:\n",
    "    records = json.load(i_file)"
   ]
  },
  {
   "cell_type": "markdown",
   "id": "691d5e9d-4f3e-478d-9eaf-89e34de66d7e",
   "metadata": {
    "tags": []
   },
   "source": [
    "Struttura di un record:"
   ]
  },
  {
   "cell_type": "code",
   "execution_count": 15,
   "id": "be3c90f4-3c42-402e-a2f4-9a341aa233a1",
   "metadata": {
    "tags": []
   },
   "outputs": [
    {
     "data": {
      "text/html": [
       "<table>\n",
       "    <thead>\n",
       "        <tr>\n",
       "            <th>ATP</th>\n",
       "            <th>Location</th>\n",
       "            <th>Tournament</th>\n",
       "            <th>Date</th>\n",
       "            <th>Series</th>\n",
       "            <th>Court</th>\n",
       "            <th>Surface</th>\n",
       "            <th>Round</th>\n",
       "            <th>Best of</th>\n",
       "            <th>Winner</th>\n",
       "            <th>Loser</th>\n",
       "            <th>WRank</th>\n",
       "            <th>LRank</th>\n",
       "            <th>WPts</th>\n",
       "            <th>LPts</th>\n",
       "            <th>W1</th>\n",
       "            <th>L1</th>\n",
       "            <th>W2</th>\n",
       "            <th>L2</th>\n",
       "            <th>W3</th>\n",
       "            <th>L3</th>\n",
       "            <th>W4</th>\n",
       "            <th>L4</th>\n",
       "            <th>W5</th>\n",
       "            <th>L5</th>\n",
       "            <th>Wsets</th>\n",
       "            <th>Lsets</th>\n",
       "            <th>Comment</th>\n",
       "            <th>B365W</th>\n",
       "            <th>B365L</th>\n",
       "            <th>PSW</th>\n",
       "            <th>PSL</th>\n",
       "            <th>MaxW</th>\n",
       "            <th>MaxL</th>\n",
       "            <th>AvgW</th>\n",
       "            <th>AvgL</th>\n",
       "            <th>Match_ID</th>\n",
       "        </tr>\n",
       "    </thead>\n",
       "    <tbody>\n",
       "        <tr>\n",
       "            <td>1</td>\n",
       "            <td>Adelaide</td>\n",
       "            <td>Adelaide International 1</td>\n",
       "            <td>1/3/2022</td>\n",
       "            <td>ATP250</td>\n",
       "            <td>Outdoor</td>\n",
       "            <td>Hard</td>\n",
       "            <td>1st Round</td>\n",
       "            <td>3</td>\n",
       "            <td>Kwon S.W.</td>\n",
       "            <td>Nishioka Y.</td>\n",
       "            <td>53</td>\n",
       "            <td>81</td>\n",
       "            <td>1115</td>\n",
       "            <td>823</td>\n",
       "            <td>6</td>\n",
       "            <td>1</td>\n",
       "            <td>6</td>\n",
       "            <td>2</td>\n",
       "            <td></td>\n",
       "            <td></td>\n",
       "            <td></td>\n",
       "            <td></td>\n",
       "            <td></td>\n",
       "            <td></td>\n",
       "            <td>2</td>\n",
       "            <td>0</td>\n",
       "            <td>Completed</td>\n",
       "            <td>1.61</td>\n",
       "            <td>2.3</td>\n",
       "            <td>1.7</td>\n",
       "            <td>2.26</td>\n",
       "            <td>1.76</td>\n",
       "            <td>2.5</td>\n",
       "            <td>1.64</td>\n",
       "            <td>2.22</td>\n",
       "            <td>0</td>\n",
       "        </tr>\n",
       "    </tbody>\n",
       "</table>"
      ],
      "text/plain": [
       "+-----+----------+--------------------------+----------+--------+---------+---------+-----------+---------+-----------+-------------+-------+-------+------+------+----+----+----+----+----+----+----+----+----+----+-------+-------+-----------+-------+-------+-----+------+------+------+------+------+----------+\n",
       "| ATP | Location |        Tournament        |   Date   | Series |  Court  | Surface |   Round   | Best of |   Winner  |    Loser    | WRank | LRank | WPts | LPts | W1 | L1 | W2 | L2 | W3 | L3 | W4 | L4 | W5 | L5 | Wsets | Lsets |  Comment  | B365W | B365L | PSW | PSL  | MaxW | MaxL | AvgW | AvgL | Match_ID |\n",
       "+-----+----------+--------------------------+----------+--------+---------+---------+-----------+---------+-----------+-------------+-------+-------+------+------+----+----+----+----+----+----+----+----+----+----+-------+-------+-----------+-------+-------+-----+------+------+------+------+------+----------+\n",
       "|  1  | Adelaide | Adelaide International 1 | 1/3/2022 | ATP250 | Outdoor |   Hard  | 1st Round |    3    | Kwon S.W. | Nishioka Y. |   53  |   81  | 1115 | 823  | 6  | 1  | 6  | 2  |    |    |    |    |    |    |   2   |   0   | Completed |  1.61 |  2.3  | 1.7 | 2.26 | 1.76 | 2.5  | 1.64 | 2.22 |    0     |\n",
       "+-----+----------+--------------------------+----------+--------+---------+---------+-----------+---------+-----------+-------------+-------+-------+------+------+----+----+----+----+----+----+----+----+----+----+-------+-------+-----------+-------+-------+-----+------+------+------+------+------+----------+"
      ]
     },
     "execution_count": 15,
     "metadata": {},
     "output_type": "execute_result"
    }
   ],
   "source": [
    "prettify_table([records[0]])"
   ]
  },
  {
   "cell_type": "markdown",
   "id": "107a0aed-c6f3-456e-a1fd-8dcda5f6c249",
   "metadata": {},
   "source": [
    "Numero di record:"
   ]
  },
  {
   "cell_type": "code",
   "execution_count": 16,
   "id": "c84f8cbe-f896-4e6f-843c-c4bf2dfd66ff",
   "metadata": {
    "tags": []
   },
   "outputs": [
    {
     "data": {
      "text/plain": [
       "2632"
      ]
     },
     "execution_count": 16,
     "metadata": {},
     "output_type": "execute_result"
    }
   ],
   "source": [
    "len(records)"
   ]
  },
  {
   "cell_type": "markdown",
   "id": "8cc51003-4dae-437c-b5be-610e61fbfccb",
   "metadata": {},
   "source": [
    "## Popolamento del **database**"
   ]
  },
  {
   "cell_type": "markdown",
   "id": "e10f5acb-b5cf-4bab-b390-9a2adf0b73cb",
   "metadata": {},
   "source": [
    "Creazione di una tabella; la **chiave primaria** è data dalla coppia <code>(ATP, Match_ID)</code>, dove:\n",
    "- <code>ATP</code> è la **partition key**, ovvero la chiave usata dalla **funzione di hash**;\n",
    "- <code>Match_ID</code> è **la range key**, ovvero la chiave con cui i record con la stessa **partition key** vengono ordinati"
   ]
  },
  {
   "cell_type": "code",
   "execution_count": 17,
   "id": "ad24e5e7-0fd7-444e-8bd0-4e609645979e",
   "metadata": {
    "tags": []
   },
   "outputs": [],
   "source": [
    "table = dynamoDB_resource.create_table( \n",
    "    TableName='atp_2022', \n",
    "    KeySchema=[ \n",
    "        { \n",
    "            'AttributeName': 'ATP', \n",
    "            'KeyType': 'HASH' \n",
    "        }, \n",
    "        { \n",
    "            'AttributeName': 'Match_ID', \n",
    "            'KeyType': 'RANGE' \n",
    "        } \n",
    "    ],\n",
    "    AttributeDefinitions=[ \n",
    "        { \n",
    "            'AttributeName': 'ATP', \n",
    "            'AttributeType': 'N' \n",
    "        }, \n",
    "        { \n",
    "            'AttributeName': 'Match_ID', \n",
    "            'AttributeType': 'N' \n",
    "        },\n",
    "    ], \n",
    "    ProvisionedThroughput={ \n",
    "        'ReadCapacityUnits': 2, \n",
    "        'WriteCapacityUnits': 2 \n",
    "    } \n",
    ")"
   ]
  },
  {
   "cell_type": "code",
   "execution_count": 18,
   "id": "b140f26c-4da2-4f48-9817-707482b984f4",
   "metadata": {
    "tags": []
   },
   "outputs": [
    {
     "data": {
      "text/plain": [
       "dynamodb.Table(name='atp_2022')"
      ]
     },
     "execution_count": 18,
     "metadata": {},
     "output_type": "execute_result"
    }
   ],
   "source": [
    "table"
   ]
  },
  {
   "cell_type": "markdown",
   "id": "df76bb8b-f42d-4375-a1bc-4051b30e175c",
   "metadata": {},
   "source": [
    "Creazione di un'**altra tabella** analoga alla precedente, tranne per il fatto che contiene un **indice locale secondario** sull'attributo *date*:"
   ]
  },
  {
   "cell_type": "code",
   "execution_count": 19,
   "id": "cdf33163-40b9-495b-9f97-40fe8cd814a1",
   "metadata": {
    "tags": []
   },
   "outputs": [],
   "source": [
    "table_with_local_index = dynamoDB_resource.create_table( \n",
    "    TableName='atp_2022_local_index', \n",
    "    KeySchema=[ \n",
    "        { \n",
    "            'AttributeName': 'ATP', \n",
    "            'KeyType': 'HASH' \n",
    "        }, \n",
    "        { \n",
    "            'AttributeName': 'Match_ID', \n",
    "            'KeyType': 'RANGE' \n",
    "        } \n",
    "    ],\n",
    "    LocalSecondaryIndexes=[\n",
    "            {\n",
    "                'IndexName': 'DateIndex',\n",
    "                'KeySchema': [\n",
    "                    {\n",
    "                        'AttributeName': 'ATP',\n",
    "                        'KeyType': 'HASH',\n",
    "                    },\n",
    "                    {\n",
    "                        'AttributeName': 'Date',\n",
    "                        'KeyType': 'RANGE',\n",
    "                    }\n",
    "                ],\n",
    "                'Projection': {\n",
    "                    'ProjectionType': 'ALL',\n",
    "                }\n",
    "            }\n",
    "    ],\n",
    "    AttributeDefinitions=[ \n",
    "        { \n",
    "            'AttributeName': 'ATP', \n",
    "            'AttributeType': 'N' \n",
    "        }, \n",
    "        { \n",
    "            'AttributeName': 'Match_ID', \n",
    "            'AttributeType': 'N' \n",
    "        },\n",
    "        {\n",
    "            'AttributeName': 'Date', \n",
    "            'AttributeType': 'S'\n",
    "        }\n",
    "    ], \n",
    "    ProvisionedThroughput={ \n",
    "        'ReadCapacityUnits': 2, \n",
    "        'WriteCapacityUnits': 2 \n",
    "    } \n",
    ")"
   ]
  },
  {
   "cell_type": "code",
   "execution_count": 20,
   "id": "a0f4f6c6-64dd-4cc4-8ac8-4b07dbfcc8a3",
   "metadata": {
    "tags": []
   },
   "outputs": [
    {
     "data": {
      "text/plain": [
       "dynamodb.Table(name='atp_2022_local_index')"
      ]
     },
     "execution_count": 20,
     "metadata": {},
     "output_type": "execute_result"
    }
   ],
   "source": [
    "table_with_local_index"
   ]
  },
  {
   "cell_type": "markdown",
   "id": "a4b895d7-42ba-4198-9af0-40950adb8682",
   "metadata": {
    "tags": []
   },
   "source": [
    "**Popolamento** della **prima tabella**:"
   ]
  },
  {
   "cell_type": "code",
   "execution_count": 21,
   "id": "8fdda348-502f-4b6a-afba-fc1d32516d3e",
   "metadata": {
    "tags": []
   },
   "outputs": [
    {
     "name": "stderr",
     "output_type": "stream",
     "text": [
      "100%|██████████| 2632/2632 [00:11<00:00, 229.51it/s]"
     ]
    },
    {
     "name": "stdout",
     "output_type": "stream",
     "text": [
      "Tempo di esecuzione: 11.49 secondi\n"
     ]
    },
    {
     "name": "stderr",
     "output_type": "stream",
     "text": [
      "\n"
     ]
    }
   ],
   "source": [
    "cont = 0\n",
    "\n",
    "start_time = time.time()\n",
    "for i in tqdm(range(len(records))):\n",
    "    result = table.put_item(Item=records[i])\n",
    "    if result['ResponseMetadata']['HTTPStatusCode'] != 200:\n",
    "        print(f\"Fallimento nell'inserimento del record {i}: {record[i]}\")\n",
    "    else:\n",
    "        cont += 1\n",
    "end_time = time.time()\n",
    "execution_time = end_time - start_time\n",
    "print(f\"Tempo di esecuzione: %.2f secondi\" % execution_time)"
   ]
  },
  {
   "cell_type": "markdown",
   "id": "479db728-4077-41dd-a400-5071dda176ef",
   "metadata": {},
   "source": [
    "Numero di **record inseriti** con **successo**:"
   ]
  },
  {
   "cell_type": "code",
   "execution_count": 22,
   "id": "81a936d1-c9df-4fc5-8654-93c7e28b49f8",
   "metadata": {
    "tags": []
   },
   "outputs": [
    {
     "data": {
      "text/plain": [
       "2632"
      ]
     },
     "execution_count": 22,
     "metadata": {},
     "output_type": "execute_result"
    }
   ],
   "source": [
    "assert cont == len(records), \"Non sono stati inseriti tutti i record\"\n",
    "cont"
   ]
  },
  {
   "cell_type": "markdown",
   "id": "d009d939-9f54-40d3-aa81-17ec543bccae",
   "metadata": {},
   "source": [
    "**Popolamento** della **seconda tabella**:"
   ]
  },
  {
   "cell_type": "code",
   "execution_count": 23,
   "id": "06285a89-2e4e-4586-a411-a371b9cd7dd4",
   "metadata": {
    "tags": []
   },
   "outputs": [
    {
     "name": "stderr",
     "output_type": "stream",
     "text": [
      "100%|██████████| 2632/2632 [00:10<00:00, 248.60it/s]"
     ]
    },
    {
     "name": "stdout",
     "output_type": "stream",
     "text": [
      "Tempo di esecuzione: 10.60 secondi\n"
     ]
    },
    {
     "name": "stderr",
     "output_type": "stream",
     "text": [
      "\n"
     ]
    }
   ],
   "source": [
    "cont = 0\n",
    "\n",
    "start_time = time.time()\n",
    "for i in tqdm(range(len(records))):\n",
    "    result = table_with_local_index.put_item(Item=records[i])\n",
    "    if result['ResponseMetadata']['HTTPStatusCode'] != 200:\n",
    "        print(f\"Fallimento nell'inserimento del record {i}: {record[i]}\")\n",
    "    else:\n",
    "        cont += 1\n",
    "end_time = time.time()\n",
    "execution_time = end_time - start_time\n",
    "print(f\"Tempo di esecuzione: %.2f secondi\" % execution_time)"
   ]
  },
  {
   "cell_type": "markdown",
   "id": "3d4f8fd3-1067-4461-bfb0-805cc28ab6f2",
   "metadata": {},
   "source": [
    "Numero di **record inseriti** con **successo**:"
   ]
  },
  {
   "cell_type": "code",
   "execution_count": 24,
   "id": "54ed5818-968c-446b-9f6f-e6fae44a13e2",
   "metadata": {
    "tags": []
   },
   "outputs": [
    {
     "data": {
      "text/plain": [
       "2632"
      ]
     },
     "execution_count": 24,
     "metadata": {},
     "output_type": "execute_result"
    }
   ],
   "source": [
    "assert cont == len(records), \"Non sono stati inseriti tutti i record\"\n",
    "cont"
   ]
  },
  {
   "cell_type": "markdown",
   "id": "3e964598-51af-48e4-a076-3aa0389f166b",
   "metadata": {},
   "source": [
    "Lista di **tutte le tabelle** nel database:"
   ]
  },
  {
   "cell_type": "code",
   "execution_count": 25,
   "id": "05ef6e75-3b17-413e-baa0-96adb8240b75",
   "metadata": {
    "tags": []
   },
   "outputs": [
    {
     "data": {
      "text/plain": [
       "[dynamodb.Table(name='atp_2022'), dynamodb.Table(name='atp_2022_local_index')]"
      ]
     },
     "execution_count": 25,
     "metadata": {},
     "output_type": "execute_result"
    }
   ],
   "source": [
    "list(dynamoDB_resource.tables.all())"
   ]
  },
  {
   "cell_type": "markdown",
   "id": "55414d9d-78fe-42ba-9c46-94eb27ab45f5",
   "metadata": {},
   "source": [
    "# Operazioni **CRUD**"
   ]
  },
  {
   "cell_type": "markdown",
   "id": "1a4847b3-10a8-4cbc-8f58-66ced8475aa3",
   "metadata": {},
   "source": [
    "## **Create**"
   ]
  },
  {
   "cell_type": "markdown",
   "id": "f798a3f7-4540-4bad-bba5-f4d341159614",
   "metadata": {
    "tags": []
   },
   "source": [
    "### Insert one"
   ]
  },
  {
   "cell_type": "code",
   "execution_count": 26,
   "id": "12f5f092-fa81-4a83-a5b8-374eece11df6",
   "metadata": {
    "tags": []
   },
   "outputs": [
    {
     "name": "stdout",
     "output_type": "stream",
     "text": [
      "Tempo di esecuzione: 0.00 secondi\n"
     ]
    },
    {
     "data": {
      "text/plain": [
       "{'ResponseMetadata': {'RequestId': '259b9b85-508b-4ac7-8b3c-523f1053586c',\n",
       "  'HTTPStatusCode': 200,\n",
       "  'HTTPHeaders': {'date': 'Tue, 30 May 2023 16:51:57 GMT',\n",
       "   'x-amzn-requestid': '259b9b85-508b-4ac7-8b3c-523f1053586c',\n",
       "   'content-type': 'application/x-amz-json-1.0',\n",
       "   'x-amz-crc32': '2745614147',\n",
       "   'content-length': '2',\n",
       "   'server': 'Jetty(9.4.48.v20220622)'},\n",
       "  'RetryAttempts': 0}}"
      ]
     },
     "execution_count": 26,
     "metadata": {},
     "output_type": "execute_result"
    }
   ],
   "source": [
    "start_time = time.time()\n",
    "response = table.put_item(\n",
    "    Item={\n",
    "        'Match_ID': 27,\n",
    "        'ATP': 1,\n",
    "        'Location': \"Adelaide\",\n",
    "        'Tournament': \"Adelaide International 1\",\n",
    "        'Date': \"1/3/2022\",\n",
    "        'Series': \"ATP250\",\n",
    "        'Court': \"Outdoor\",\n",
    "        'Surface': \"Hard\",\n",
    "        'Round': \"1st Qualification\",\n",
    "        'Best of': \"3\",\n",
    "        'Winner': \"Lorenzo Sonego\",\n",
    "        'Loser': \"Thanasi Kokkinakis\",\n",
    "        'WRank': 48,\n",
    "        'LRank': 76,\n",
    "        'WPts': 1115,\n",
    "        'LPts': 823,\n",
    "        'W1': 6,\n",
    "        'L1': 1,\n",
    "        'W2': 6,\n",
    "        'L2': 2,\n",
    "        'W3': \"\",\n",
    "        'L3': \"\",\n",
    "        'W4': \"\",\n",
    "        'L4': \"\",\n",
    "        'W5': \"\",\n",
    "        'L5': \"\",\n",
    "        'Wsets': 2,\n",
    "        'Lsets': 0,\n",
    "        'Comment': \"Completed\",\n",
    "        'B365W': \"1.61\",\n",
    "        'B365L': \"2.3\",\n",
    "        'PSW': \"1.7\",\n",
    "        'PSL': \"2.26\",\n",
    "        'MaxW': \"1.76\",\n",
    "        'MaxL': \"2.5\",\n",
    "        'AvgW': \"1.64\",\n",
    "        'AvgL': \"2.22\"\n",
    "    }\n",
    ")\n",
    "end_time = time.time()\n",
    "execution_time = end_time - start_time\n",
    "print(\"Tempo di esecuzione: %.2f secondi\" % execution_time)\n",
    "response"
   ]
  },
  {
   "cell_type": "markdown",
   "id": "e6dfedbc-01ed-4167-bdc6-bd881fc699cd",
   "metadata": {},
   "source": [
    "### Insert many"
   ]
  },
  {
   "cell_type": "code",
   "execution_count": 27,
   "id": "d61f0252-04d3-4b1d-a2f1-b97715dad432",
   "metadata": {
    "tags": []
   },
   "outputs": [
    {
     "name": "stdout",
     "output_type": "stream",
     "text": [
      "Tempo di esecuzione: 0.01 secondi\n"
     ]
    }
   ],
   "source": [
    "start_time = time.time()\n",
    "items = [\n",
    "    {\n",
    "         'Match_ID': 28,\n",
    "        'ATP': 1,\n",
    "        'Location': 'Adelaide',\n",
    "        'Tournament': 'Adelaide International 1',\n",
    "        'Date': '1/3/2022',\n",
    "        'Series': 'ATP250',\n",
    "        'Court': 'Outdoor',\n",
    "        'Surface': 'Hard',\n",
    "        'Round': '1st Round',\n",
    "        'Best of': '3',\n",
    "        'Winner': 'Kwon S.W.',\n",
    "        'Loser': 'Nishioka Y.',\n",
    "        'WRank': 53,\n",
    "        'LRank': 81,\n",
    "        'WPts': 1115,\n",
    "        'LPts': 823,\n",
    "        'W1': 6,\n",
    "        'L1': 1,\n",
    "        'W2': 6,\n",
    "        'L2': 2,\n",
    "        'W3': '',\n",
    "        'L3': '',\n",
    "        'W4': '',\n",
    "        'L4': '',\n",
    "        'W5': '',\n",
    "        'L5': '',\n",
    "        'Wsets': 2,\n",
    "        'Lsets': 0,\n",
    "        'Comment': 'Completed',\n",
    "        'B365W': '1.61',\n",
    "        'B365L': '2.3',\n",
    "        'PSW': '1.7',\n",
    "        'PSL': '2.26',\n",
    "        'MaxW': '1.76',\n",
    "        'MaxL': '2.5',\n",
    "        'AvgW': '1.64',\n",
    "        'AvgL': '2.22'\n",
    "    },\n",
    "    {\n",
    "        'Match_ID': 55,\n",
    "        'ATP': 2,\n",
    "        'Location': 'Rome',\n",
    "        'Tournament': 'Italian Open',\n",
    "        'Date': '5/10/2022',\n",
    "        'Series': 'ATP1000',\n",
    "        'Court': 'Clay',\n",
    "        'Surface': 'Outdoor',\n",
    "        'Round': 'Quarterfinals',\n",
    "        'Best of': '3',\n",
    "        'Winner': 'Nadal R.',\n",
    "        'Loser': 'Thiem D.',\n",
    "        'WRank': 3,\n",
    "        'LRank': 5,\n",
    "        'WPts': 9800,\n",
    "        'LPts': 8355,\n",
    "        'W1': 7,\n",
    "        'L1': 5,\n",
    "        'W2': 4,\n",
    "        'L2': 6,\n",
    "        'W3': 6,\n",
    "        'L3': 3,\n",
    "        'W4': '',\n",
    "        'L4': '',\n",
    "        'W5': '',\n",
    "        'L5': '',\n",
    "        'Wsets': 2,\n",
    "        'Lsets': 1,\n",
    "        'Comment': 'Completed',\n",
    "        'B365W': '1.45',\n",
    "        'B365L': '2.75',\n",
    "        'PSW': '1.5',\n",
    "        'PSL': '2.7',\n",
    "        'MaxW': '1.55',\n",
    "        'MaxL': '2.85',\n",
    "        'AvgW': '1.48',\n",
    "        'AvgL': '2.63'\n",
    "    }\n",
    "]\n",
    "\n",
    "with table.batch_writer() as batch:\n",
    "    for item in items:\n",
    "        batch.put_item(Item=item)\n",
    "\n",
    "end_time = time.time()\n",
    "execution_time = end_time - start_time\n",
    "print(\"Tempo di esecuzione: %.2f secondi\" % execution_time)   "
   ]
  },
  {
   "cell_type": "markdown",
   "id": "5030b3a8-f6d8-41eb-84e3-fefe4081a129",
   "metadata": {},
   "source": [
    "## **Read**"
   ]
  },
  {
   "cell_type": "markdown",
   "id": "0dd89444-99ff-46f2-8d3e-b437af146ab9",
   "metadata": {
    "tags": []
   },
   "source": [
    "**Lettura** di **tutta la tabella**:"
   ]
  },
  {
   "cell_type": "code",
   "execution_count": 28,
   "id": "68dae87f-4c1a-4e74-820c-f8442644e2ca",
   "metadata": {
    "tags": []
   },
   "outputs": [
    {
     "name": "stdout",
     "output_type": "stream",
     "text": [
      "Tempo di esecuzione: 0.71 secondi\n"
     ]
    }
   ],
   "source": [
    "start_time = time.time()\n",
    "response = table.scan()\n",
    "end_time = time.time()\n",
    "\n",
    "execution_time = end_time - start_time\n",
    "print(f\"Tempo di esecuzione: %.2f secondi\" % execution_time)"
   ]
  },
  {
   "cell_type": "code",
   "execution_count": 29,
   "id": "f1c0bc01-99a9-4f7f-8189-3f22088f2783",
   "metadata": {
    "tags": []
   },
   "outputs": [
    {
     "data": {
      "text/plain": [
       "dict_keys(['Items', 'Count', 'ScannedCount', 'ResponseMetadata'])"
      ]
     },
     "execution_count": 29,
     "metadata": {},
     "output_type": "execute_result"
    }
   ],
   "source": [
    "response.keys()"
   ]
  },
  {
   "cell_type": "markdown",
   "id": "9327a839-8618-4def-8462-98360b211808",
   "metadata": {},
   "source": [
    "Numero di record ritornati"
   ]
  },
  {
   "cell_type": "code",
   "execution_count": 30,
   "id": "ebbce135-3ee2-4657-bb35-70745c059297",
   "metadata": {
    "tags": []
   },
   "outputs": [
    {
     "data": {
      "text/plain": [
       "2635"
      ]
     },
     "execution_count": 30,
     "metadata": {},
     "output_type": "execute_result"
    }
   ],
   "source": [
    "response['Count']"
   ]
  },
  {
   "cell_type": "code",
   "execution_count": 31,
   "id": "7f0b00f2-fd4d-4f53-8a76-64e45226fa17",
   "metadata": {
    "tags": []
   },
   "outputs": [
    {
     "data": {
      "text/html": [
       "<table>\n",
       "    <thead>\n",
       "        <tr>\n",
       "            <th>AvgL</th>\n",
       "            <th>Best of</th>\n",
       "            <th>LRank</th>\n",
       "            <th>Court</th>\n",
       "            <th>Surface</th>\n",
       "            <th>WRank</th>\n",
       "            <th>Wsets</th>\n",
       "            <th>Round</th>\n",
       "            <th>B365W</th>\n",
       "            <th>LPts</th>\n",
       "            <th>Comment</th>\n",
       "            <th>L1</th>\n",
       "            <th>L2</th>\n",
       "            <th>B365L</th>\n",
       "            <th>L3</th>\n",
       "            <th>L4</th>\n",
       "            <th>PSL</th>\n",
       "            <th>L5</th>\n",
       "            <th>MaxL</th>\n",
       "            <th>Date</th>\n",
       "            <th>Winner</th>\n",
       "            <th>WPts</th>\n",
       "            <th>Series</th>\n",
       "            <th>PSW</th>\n",
       "            <th>MaxW</th>\n",
       "            <th>Lsets</th>\n",
       "            <th>Match_ID</th>\n",
       "            <th>W1</th>\n",
       "            <th>AvgW</th>\n",
       "            <th>W2</th>\n",
       "            <th>W3</th>\n",
       "            <th>ATP</th>\n",
       "            <th>Tournament</th>\n",
       "            <th>W4</th>\n",
       "            <th>Loser</th>\n",
       "            <th>W5</th>\n",
       "            <th>Location</th>\n",
       "        </tr>\n",
       "    </thead>\n",
       "    <tbody>\n",
       "        <tr>\n",
       "            <td>1.99</td>\n",
       "            <td>3</td>\n",
       "            <td>25</td>\n",
       "            <td>Outdoor</td>\n",
       "            <td>Clay</td>\n",
       "            <td>35</td>\n",
       "            <td>2</td>\n",
       "            <td>1st Round</td>\n",
       "            <td>1.8</td>\n",
       "            <td>1455</td>\n",
       "            <td>Completed</td>\n",
       "            <td>4</td>\n",
       "            <td>4</td>\n",
       "            <td>2</td>\n",
       "            <td></td>\n",
       "            <td></td>\n",
       "            <td>2.07</td>\n",
       "            <td></td>\n",
       "            <td>2.1</td>\n",
       "            <td>7/18/2022</td>\n",
       "            <td>Davidovich Fokina A.</td>\n",
       "            <td>1130</td>\n",
       "            <td>ATP250</td>\n",
       "            <td>1.83</td>\n",
       "            <td>1.91</td>\n",
       "            <td>0</td>\n",
       "            <td>0</td>\n",
       "            <td>6</td>\n",
       "            <td>1.8</td>\n",
       "            <td>6</td>\n",
       "            <td></td>\n",
       "            <td>43</td>\n",
       "            <td>European Open</td>\n",
       "            <td></td>\n",
       "            <td>Van De Zandschulp B.</td>\n",
       "            <td></td>\n",
       "            <td>Hamburg</td>\n",
       "        </tr>\n",
       "        <tr>\n",
       "            <td>6.19</td>\n",
       "            <td>3</td>\n",
       "            <td>585</td>\n",
       "            <td>Outdoor</td>\n",
       "            <td>Clay</td>\n",
       "            <td>48</td>\n",
       "            <td>2</td>\n",
       "            <td>1st Round</td>\n",
       "            <td>1.12</td>\n",
       "            <td>45</td>\n",
       "            <td>Completed</td>\n",
       "            <td>5</td>\n",
       "            <td>3</td>\n",
       "            <td>6</td>\n",
       "            <td></td>\n",
       "            <td></td>\n",
       "            <td>6.99</td>\n",
       "            <td></td>\n",
       "            <td>7</td>\n",
       "            <td>7/18/2022</td>\n",
       "            <td>Molcan A.</td>\n",
       "            <td>956</td>\n",
       "            <td>ATP250</td>\n",
       "            <td>1.13</td>\n",
       "            <td>1.15</td>\n",
       "            <td>0</td>\n",
       "            <td>1</td>\n",
       "            <td>7</td>\n",
       "            <td>1.12</td>\n",
       "            <td>6</td>\n",
       "            <td></td>\n",
       "            <td>43</td>\n",
       "            <td>European Open</td>\n",
       "            <td></td>\n",
       "            <td>Topo M.</td>\n",
       "            <td></td>\n",
       "            <td>Hamburg</td>\n",
       "        </tr>\n",
       "        <tr>\n",
       "            <td>2.26</td>\n",
       "            <td>3</td>\n",
       "            <td>75</td>\n",
       "            <td>Outdoor</td>\n",
       "            <td>Clay</td>\n",
       "            <td>62</td>\n",
       "            <td>2</td>\n",
       "            <td>1st Round</td>\n",
       "            <td>1.57</td>\n",
       "            <td>703</td>\n",
       "            <td>Completed</td>\n",
       "            <td>7</td>\n",
       "            <td>6</td>\n",
       "            <td>2.37</td>\n",
       "            <td>3</td>\n",
       "            <td></td>\n",
       "            <td>2.33</td>\n",
       "            <td></td>\n",
       "            <td>2.4</td>\n",
       "            <td>7/18/2022</td>\n",
       "            <td>Musetti L.</td>\n",
       "            <td>781</td>\n",
       "            <td>ATP250</td>\n",
       "            <td>1.67</td>\n",
       "            <td>1.7</td>\n",
       "            <td>1</td>\n",
       "            <td>2</td>\n",
       "            <td>6</td>\n",
       "            <td>1.62</td>\n",
       "            <td>7</td>\n",
       "            <td>6</td>\n",
       "            <td>43</td>\n",
       "            <td>European Open</td>\n",
       "            <td></td>\n",
       "            <td>Lajovic D.</td>\n",
       "            <td></td>\n",
       "            <td>Hamburg</td>\n",
       "        </tr>\n",
       "        <tr>\n",
       "            <td>6.14</td>\n",
       "            <td>3</td>\n",
       "            <td>830</td>\n",
       "            <td>Outdoor</td>\n",
       "            <td>Clay</td>\n",
       "            <td>186</td>\n",
       "            <td>2</td>\n",
       "            <td>1st Round</td>\n",
       "            <td>1.14</td>\n",
       "            <td>17</td>\n",
       "            <td>Completed</td>\n",
       "            <td>6</td>\n",
       "            <td>5</td>\n",
       "            <td>5.5</td>\n",
       "            <td>1</td>\n",
       "            <td></td>\n",
       "            <td>6.81</td>\n",
       "            <td></td>\n",
       "            <td>8</td>\n",
       "            <td>7/18/2022</td>\n",
       "            <td>Kovalik J.</td>\n",
       "            <td>283</td>\n",
       "            <td>ATP250</td>\n",
       "            <td>1.13</td>\n",
       "            <td>1.21</td>\n",
       "            <td>1</td>\n",
       "            <td>3</td>\n",
       "            <td>3</td>\n",
       "            <td>1.12</td>\n",
       "            <td>7</td>\n",
       "            <td>6</td>\n",
       "            <td>43</td>\n",
       "            <td>European Open</td>\n",
       "            <td></td>\n",
       "            <td>Rehberg M.</td>\n",
       "            <td></td>\n",
       "            <td>Hamburg</td>\n",
       "        </tr>\n",
       "        <tr>\n",
       "            <td>2.04</td>\n",
       "            <td>3</td>\n",
       "            <td>122</td>\n",
       "            <td>Outdoor</td>\n",
       "            <td>Clay</td>\n",
       "            <td>26</td>\n",
       "            <td>2</td>\n",
       "            <td>1st Round</td>\n",
       "            <td>1.72</td>\n",
       "            <td>443</td>\n",
       "            <td>Completed</td>\n",
       "            <td>6</td>\n",
       "            <td>3</td>\n",
       "            <td>2.1</td>\n",
       "            <td>6</td>\n",
       "            <td></td>\n",
       "            <td>2.13</td>\n",
       "            <td></td>\n",
       "            <td>2.15</td>\n",
       "            <td>7/18/2022</td>\n",
       "            <td>Khachanov K.</td>\n",
       "            <td>1440</td>\n",
       "            <td>ATP250</td>\n",
       "            <td>1.79</td>\n",
       "            <td>1.84</td>\n",
       "            <td>1</td>\n",
       "            <td>4</td>\n",
       "            <td>3</td>\n",
       "            <td>1.76</td>\n",
       "            <td>6</td>\n",
       "            <td>7</td>\n",
       "            <td>43</td>\n",
       "            <td>European Open</td>\n",
       "            <td></td>\n",
       "            <td>Struff J.L.</td>\n",
       "            <td></td>\n",
       "            <td>Hamburg</td>\n",
       "        </tr>\n",
       "        <tr>\n",
       "            <td>1.38</td>\n",
       "            <td>3</td>\n",
       "            <td>14</td>\n",
       "            <td>Outdoor</td>\n",
       "            <td>Clay</td>\n",
       "            <td>42</td>\n",
       "            <td>2</td>\n",
       "            <td>1st Round</td>\n",
       "            <td>3.2</td>\n",
       "            <td>2325</td>\n",
       "            <td>Completed</td>\n",
       "            <td>5</td>\n",
       "            <td>4</td>\n",
       "            <td>1.36</td>\n",
       "            <td></td>\n",
       "            <td></td>\n",
       "            <td>1.4</td>\n",
       "            <td></td>\n",
       "            <td>1.42</td>\n",
       "            <td>7/19/2022</td>\n",
       "            <td>Ruusuvuori E.</td>\n",
       "            <td>1015</td>\n",
       "            <td>ATP250</td>\n",
       "            <td>3.15</td>\n",
       "            <td>3.27</td>\n",
       "            <td>0</td>\n",
       "            <td>5</td>\n",
       "            <td>7</td>\n",
       "            <td>2.99</td>\n",
       "            <td>6</td>\n",
       "            <td></td>\n",
       "            <td>43</td>\n",
       "            <td>European Open</td>\n",
       "            <td></td>\n",
       "            <td>Schwartzman D.</td>\n",
       "            <td></td>\n",
       "            <td>Hamburg</td>\n",
       "        </tr>\n",
       "        <tr>\n",
       "            <td>1.64</td>\n",
       "            <td>3</td>\n",
       "            <td>27</td>\n",
       "            <td>Outdoor</td>\n",
       "            <td>Clay</td>\n",
       "            <td>47</td>\n",
       "            <td>2</td>\n",
       "            <td>1st Round</td>\n",
       "            <td>2.37</td>\n",
       "            <td>1412</td>\n",
       "            <td>Completed</td>\n",
       "            <td>6</td>\n",
       "            <td>5</td>\n",
       "            <td>1.57</td>\n",
       "            <td></td>\n",
       "            <td></td>\n",
       "            <td>1.69</td>\n",
       "            <td></td>\n",
       "            <td>1.73</td>\n",
       "            <td>7/19/2022</td>\n",
       "            <td>Griekspoor T.</td>\n",
       "            <td>969</td>\n",
       "            <td>ATP250</td>\n",
       "            <td>2.28</td>\n",
       "            <td>2.41</td>\n",
       "            <td>0</td>\n",
       "            <td>6</td>\n",
       "            <td>7</td>\n",
       "            <td>2.23</td>\n",
       "            <td>7</td>\n",
       "            <td></td>\n",
       "            <td>43</td>\n",
       "            <td>European Open</td>\n",
       "            <td></td>\n",
       "            <td>Rune H.</td>\n",
       "            <td></td>\n",
       "            <td>Hamburg</td>\n",
       "        </tr>\n",
       "        <tr>\n",
       "            <td>1.55</td>\n",
       "            <td>3</td>\n",
       "            <td>69</td>\n",
       "            <td>Outdoor</td>\n",
       "            <td>Clay</td>\n",
       "            <td>183</td>\n",
       "            <td>2</td>\n",
       "            <td>1st Round</td>\n",
       "            <td>2.37</td>\n",
       "            <td>741</td>\n",
       "            <td>Completed</td>\n",
       "            <td>6</td>\n",
       "            <td>6</td>\n",
       "            <td>1.57</td>\n",
       "            <td>3</td>\n",
       "            <td></td>\n",
       "            <td>1.53</td>\n",
       "            <td></td>\n",
       "            <td>1.62</td>\n",
       "            <td>7/19/2022</td>\n",
       "            <td>Coric B.</td>\n",
       "            <td>283</td>\n",
       "            <td>ATP250</td>\n",
       "            <td>2.65</td>\n",
       "            <td>2.76</td>\n",
       "            <td>1</td>\n",
       "            <td>7</td>\n",
       "            <td>1</td>\n",
       "            <td>2.41</td>\n",
       "            <td>7</td>\n",
       "            <td>6</td>\n",
       "            <td>43</td>\n",
       "            <td>European Open</td>\n",
       "            <td></td>\n",
       "            <td>Djere L.</td>\n",
       "            <td></td>\n",
       "            <td>Hamburg</td>\n",
       "        </tr>\n",
       "        <tr>\n",
       "            <td>4.9</td>\n",
       "            <td>3</td>\n",
       "            <td>169</td>\n",
       "            <td>Outdoor</td>\n",
       "            <td>Clay</td>\n",
       "            <td>23</td>\n",
       "            <td>2</td>\n",
       "            <td>1st Round</td>\n",
       "            <td>1.16</td>\n",
       "            <td>303</td>\n",
       "            <td>Completed</td>\n",
       "            <td>2</td>\n",
       "            <td>1</td>\n",
       "            <td>5</td>\n",
       "            <td></td>\n",
       "            <td></td>\n",
       "            <td>5.22</td>\n",
       "            <td></td>\n",
       "            <td>5.34</td>\n",
       "            <td>7/19/2022</td>\n",
       "            <td>Carreno Busta P.</td>\n",
       "            <td>1510</td>\n",
       "            <td>ATP250</td>\n",
       "            <td>1.19</td>\n",
       "            <td>1.21</td>\n",
       "            <td>0</td>\n",
       "            <td>8</td>\n",
       "            <td>6</td>\n",
       "            <td>1.17</td>\n",
       "            <td>6</td>\n",
       "            <td></td>\n",
       "            <td>43</td>\n",
       "            <td>European Open</td>\n",
       "            <td></td>\n",
       "            <td>Nardi L.</td>\n",
       "            <td></td>\n",
       "            <td>Hamburg</td>\n",
       "        </tr>\n",
       "        <tr>\n",
       "            <td>2.89</td>\n",
       "            <td>3</td>\n",
       "            <td>285</td>\n",
       "            <td>Outdoor</td>\n",
       "            <td>Clay</td>\n",
       "            <td>61</td>\n",
       "            <td>2</td>\n",
       "            <td>1st Round</td>\n",
       "            <td>1.36</td>\n",
       "            <td>170</td>\n",
       "            <td>Completed</td>\n",
       "            <td>3</td>\n",
       "            <td>6</td>\n",
       "            <td>3.2</td>\n",
       "            <td>6</td>\n",
       "            <td></td>\n",
       "            <td>3.01</td>\n",
       "            <td></td>\n",
       "            <td>3.26</td>\n",
       "            <td>7/19/2022</td>\n",
       "            <td>Fognini F.</td>\n",
       "            <td>789</td>\n",
       "            <td>ATP250</td>\n",
       "            <td>1.43</td>\n",
       "            <td>1.44</td>\n",
       "            <td>1</td>\n",
       "            <td>9</td>\n",
       "            <td>6</td>\n",
       "            <td>1.4</td>\n",
       "            <td>3</td>\n",
       "            <td>7</td>\n",
       "            <td>43</td>\n",
       "            <td>European Open</td>\n",
       "            <td></td>\n",
       "            <td>Bedene A.</td>\n",
       "            <td></td>\n",
       "            <td>Hamburg</td>\n",
       "        </tr>\n",
       "    </tbody>\n",
       "</table>"
      ],
      "text/plain": [
       "+------+---------+-------+---------+---------+-------+-------+-----------+-------+------+-----------+----+----+-------+----+----+------+----+------+-----------+----------------------+------+--------+------+------+-------+----------+----+------+----+----+-----+---------------+----+----------------------+----+----------+\n",
       "| AvgL | Best of | LRank |  Court  | Surface | WRank | Wsets |   Round   | B365W | LPts |  Comment  | L1 | L2 | B365L | L3 | L4 | PSL  | L5 | MaxL |    Date   |        Winner        | WPts | Series | PSW  | MaxW | Lsets | Match_ID | W1 | AvgW | W2 | W3 | ATP |   Tournament  | W4 |        Loser         | W5 | Location |\n",
       "+------+---------+-------+---------+---------+-------+-------+-----------+-------+------+-----------+----+----+-------+----+----+------+----+------+-----------+----------------------+------+--------+------+------+-------+----------+----+------+----+----+-----+---------------+----+----------------------+----+----------+\n",
       "| 1.99 |    3    |   25  | Outdoor |   Clay  |   35  |   2   | 1st Round |  1.8  | 1455 | Completed | 4  | 4  |   2   |    |    | 2.07 |    | 2.1  | 7/18/2022 | Davidovich Fokina A. | 1130 | ATP250 | 1.83 | 1.91 |   0   |    0     | 6  | 1.8  | 6  |    |  43 | European Open |    | Van De Zandschulp B. |    | Hamburg  |\n",
       "| 6.19 |    3    |  585  | Outdoor |   Clay  |   48  |   2   | 1st Round |  1.12 |  45  | Completed | 5  | 3  |   6   |    |    | 6.99 |    |  7   | 7/18/2022 |      Molcan A.       | 956  | ATP250 | 1.13 | 1.15 |   0   |    1     | 7  | 1.12 | 6  |    |  43 | European Open |    |       Topo M.        |    | Hamburg  |\n",
       "| 2.26 |    3    |   75  | Outdoor |   Clay  |   62  |   2   | 1st Round |  1.57 | 703  | Completed | 7  | 6  |  2.37 | 3  |    | 2.33 |    | 2.4  | 7/18/2022 |      Musetti L.      | 781  | ATP250 | 1.67 | 1.7  |   1   |    2     | 6  | 1.62 | 7  | 6  |  43 | European Open |    |      Lajovic D.      |    | Hamburg  |\n",
       "| 6.14 |    3    |  830  | Outdoor |   Clay  |  186  |   2   | 1st Round |  1.14 |  17  | Completed | 6  | 5  |  5.5  | 1  |    | 6.81 |    |  8   | 7/18/2022 |      Kovalik J.      | 283  | ATP250 | 1.13 | 1.21 |   1   |    3     | 3  | 1.12 | 7  | 6  |  43 | European Open |    |      Rehberg M.      |    | Hamburg  |\n",
       "| 2.04 |    3    |  122  | Outdoor |   Clay  |   26  |   2   | 1st Round |  1.72 | 443  | Completed | 6  | 3  |  2.1  | 6  |    | 2.13 |    | 2.15 | 7/18/2022 |     Khachanov K.     | 1440 | ATP250 | 1.79 | 1.84 |   1   |    4     | 3  | 1.76 | 6  | 7  |  43 | European Open |    |     Struff J.L.      |    | Hamburg  |\n",
       "| 1.38 |    3    |   14  | Outdoor |   Clay  |   42  |   2   | 1st Round |  3.2  | 2325 | Completed | 5  | 4  |  1.36 |    |    | 1.4  |    | 1.42 | 7/19/2022 |    Ruusuvuori E.     | 1015 | ATP250 | 3.15 | 3.27 |   0   |    5     | 7  | 2.99 | 6  |    |  43 | European Open |    |    Schwartzman D.    |    | Hamburg  |\n",
       "| 1.64 |    3    |   27  | Outdoor |   Clay  |   47  |   2   | 1st Round |  2.37 | 1412 | Completed | 6  | 5  |  1.57 |    |    | 1.69 |    | 1.73 | 7/19/2022 |    Griekspoor T.     | 969  | ATP250 | 2.28 | 2.41 |   0   |    6     | 7  | 2.23 | 7  |    |  43 | European Open |    |       Rune H.        |    | Hamburg  |\n",
       "| 1.55 |    3    |   69  | Outdoor |   Clay  |  183  |   2   | 1st Round |  2.37 | 741  | Completed | 6  | 6  |  1.57 | 3  |    | 1.53 |    | 1.62 | 7/19/2022 |       Coric B.       | 283  | ATP250 | 2.65 | 2.76 |   1   |    7     | 1  | 2.41 | 7  | 6  |  43 | European Open |    |       Djere L.       |    | Hamburg  |\n",
       "| 4.9  |    3    |  169  | Outdoor |   Clay  |   23  |   2   | 1st Round |  1.16 | 303  | Completed | 2  | 1  |   5   |    |    | 5.22 |    | 5.34 | 7/19/2022 |   Carreno Busta P.   | 1510 | ATP250 | 1.19 | 1.21 |   0   |    8     | 6  | 1.17 | 6  |    |  43 | European Open |    |       Nardi L.       |    | Hamburg  |\n",
       "| 2.89 |    3    |  285  | Outdoor |   Clay  |   61  |   2   | 1st Round |  1.36 | 170  | Completed | 3  | 6  |  3.2  | 6  |    | 3.01 |    | 3.26 | 7/19/2022 |      Fognini F.      | 789  | ATP250 | 1.43 | 1.44 |   1   |    9     | 6  | 1.4  | 3  | 7  |  43 | European Open |    |      Bedene A.       |    | Hamburg  |\n",
       "+------+---------+-------+---------+---------+-------+-------+-----------+-------+------+-----------+----+----+-------+----+----+------+----+------+-----------+----------------------+------+--------+------+------+-------+----------+----+------+----+----+-----+---------------+----+----------------------+----+----------+"
      ]
     },
     "execution_count": 31,
     "metadata": {},
     "output_type": "execute_result"
    }
   ],
   "source": [
    "prettify_table(response['Items'][:10])"
   ]
  },
  {
   "cell_type": "markdown",
   "id": "8e5db7d7-7c83-4b95-b3db-e98692144612",
   "metadata": {},
   "source": [
    "**Lettura** con **selezione**: tutti i vincitori degli **Slam** nel 2022"
   ]
  },
  {
   "cell_type": "code",
   "execution_count": 32,
   "id": "e4bc5f07-dc29-4508-8a3c-73bfb20e1506",
   "metadata": {
    "tags": []
   },
   "outputs": [
    {
     "name": "stdout",
     "output_type": "stream",
     "text": [
      "Tempo di esecuzione: 0.10 secondi\n"
     ]
    }
   ],
   "source": [
    "start_time = time.time()\n",
    "response = table.scan(FilterExpression = Attr('Series').eq('Grand Slam') & Attr('Round').eq('The Final'),\n",
    "                      ProjectionExpression='ATP, Tournament, #loc, Winner, #d',    #Location is a reserved keyword\n",
    "                      ExpressionAttributeNames = {'#loc': 'Location', '#d': 'Date'})\n",
    "end_time = time.time()\n",
    "\n",
    "execution_time = end_time - start_time\n",
    "print(f\"Tempo di esecuzione: %.2f secondi\" % execution_time)"
   ]
  },
  {
   "cell_type": "code",
   "execution_count": 33,
   "id": "648dc7c8-2209-478b-a66f-043fe37dc8e9",
   "metadata": {
    "tags": []
   },
   "outputs": [
    {
     "data": {
      "text/html": [
       "<table>\n",
       "    <thead>\n",
       "        <tr>\n",
       "            <th>ATP</th>\n",
       "            <th>Tournament</th>\n",
       "            <th>Date</th>\n",
       "            <th>Location</th>\n",
       "            <th>Winner</th>\n",
       "        </tr>\n",
       "    </thead>\n",
       "    <tbody>\n",
       "        <tr>\n",
       "            <td>5</td>\n",
       "            <td>Australian Open</td>\n",
       "            <td>1/30/2022</td>\n",
       "            <td>Melbourne</td>\n",
       "            <td>Nadal R.</td>\n",
       "        </tr>\n",
       "        <tr>\n",
       "            <td>39</td>\n",
       "            <td>Wimbledon</td>\n",
       "            <td>7/10/2022</td>\n",
       "            <td>London</td>\n",
       "            <td>Djokovic N.</td>\n",
       "        </tr>\n",
       "        <tr>\n",
       "            <td>32</td>\n",
       "            <td>French Open</td>\n",
       "            <td>6/5/2022</td>\n",
       "            <td>Paris</td>\n",
       "            <td>Nadal R.</td>\n",
       "        </tr>\n",
       "        <tr>\n",
       "            <td>52</td>\n",
       "            <td>US Open</td>\n",
       "            <td>9/11/2022</td>\n",
       "            <td>New York</td>\n",
       "            <td>Alcaraz C.</td>\n",
       "        </tr>\n",
       "    </tbody>\n",
       "</table>"
      ],
      "text/plain": [
       "+-----+-----------------+-----------+-----------+-------------+\n",
       "| ATP |    Tournament   |    Date   |  Location |    Winner   |\n",
       "+-----+-----------------+-----------+-----------+-------------+\n",
       "|  5  | Australian Open | 1/30/2022 | Melbourne |   Nadal R.  |\n",
       "|  39 |    Wimbledon    | 7/10/2022 |   London  | Djokovic N. |\n",
       "|  32 |   French Open   |  6/5/2022 |   Paris   |   Nadal R.  |\n",
       "|  52 |     US Open     | 9/11/2022 |  New York |  Alcaraz C. |\n",
       "+-----+-----------------+-----------+-----------+-------------+"
      ]
     },
     "execution_count": 33,
     "metadata": {},
     "output_type": "execute_result"
    }
   ],
   "source": [
    "prettify_table(response['Items'])"
   ]
  },
  {
   "cell_type": "markdown",
   "id": "9996e269-67d4-4540-a1a8-8e01524db2fd",
   "metadata": {},
   "source": [
    "## **Update**"
   ]
  },
  {
   "cell_type": "code",
   "execution_count": 34,
   "id": "7dfd30f4-94bb-4f4d-b2b8-72e70e662c9c",
   "metadata": {
    "tags": []
   },
   "outputs": [
    {
     "name": "stdout",
     "output_type": "stream",
     "text": [
      "Tempo di esecuzione: 0.00 secondi\n"
     ]
    },
    {
     "data": {
      "text/plain": [
       "{'ResponseMetadata': {'RequestId': '34e5cde7-8e08-441a-b5aa-a494964f2bd3',\n",
       "  'HTTPStatusCode': 200,\n",
       "  'HTTPHeaders': {'date': 'Tue, 30 May 2023 16:51:58 GMT',\n",
       "   'x-amzn-requestid': '34e5cde7-8e08-441a-b5aa-a494964f2bd3',\n",
       "   'content-type': 'application/x-amz-json-1.0',\n",
       "   'x-amz-crc32': '2745614147',\n",
       "   'content-length': '2',\n",
       "   'server': 'Jetty(9.4.48.v20220622)'},\n",
       "  'RetryAttempts': 0}}"
      ]
     },
     "execution_count": 34,
     "metadata": {},
     "output_type": "execute_result"
    }
   ],
   "source": [
    "start_time = time.time()\n",
    "\n",
    "response = table.update_item(\n",
    "    Key={'ATP': 1, 'Match_ID': 28 },\n",
    "    ExpressionAttributeNames={\n",
    "        \"#attributo\": \"Date\"\n",
    "        },\n",
    "        ExpressionAttributeValues={\n",
    "            ':valore': '6/22/2022'\n",
    "        },\n",
    "        UpdateExpression=\"SET #attributo = :valore\",\n",
    "    )\n",
    "end_time = time.time()\n",
    "\n",
    "execution_time = end_time - start_time\n",
    "print(\"Tempo di esecuzione: %.2f secondi\" % execution_time)\n",
    "\n",
    "response"
   ]
  },
  {
   "cell_type": "code",
   "execution_count": 35,
   "id": "db9611cc-eab9-4488-a9cb-4f177c925920",
   "metadata": {
    "tags": []
   },
   "outputs": [
    {
     "name": "stdout",
     "output_type": "stream",
     "text": [
      "Tempo di esecuzione: 0.01 secondi\n"
     ]
    },
    {
     "data": {
      "text/plain": [
       "{'ResponseMetadata': {'RequestId': '2731ec61-a0ff-4e02-9eb0-9ba503fcf0a0',\n",
       "  'HTTPStatusCode': 200,\n",
       "  'HTTPHeaders': {'date': 'Tue, 30 May 2023 16:51:58 GMT',\n",
       "   'x-amzn-requestid': '2731ec61-a0ff-4e02-9eb0-9ba503fcf0a0',\n",
       "   'content-type': 'application/x-amz-json-1.0',\n",
       "   'x-amz-crc32': '2745614147',\n",
       "   'content-length': '2',\n",
       "   'server': 'Jetty(9.4.48.v20220622)'},\n",
       "  'RetryAttempts': 0}}"
      ]
     },
     "execution_count": 35,
     "metadata": {},
     "output_type": "execute_result"
    }
   ],
   "source": [
    "start_time = time.time()\n",
    "response = table.update_item(\n",
    "    Key={'ATP': 1, 'Match_ID': 27  },\n",
    "    ExpressionAttributeNames={\n",
    "        \"#attributo\": \"WPts\",\n",
    "         \"#attributo2\": \"LPts\"\n",
    "        },\n",
    "        ExpressionAttributeValues={\n",
    "            ':valore': 1100,\n",
    "              ':valore2': 600\n",
    "        },\n",
    "        UpdateExpression=\"SET #attributo = :valore, #attributo2 = :valore2 \",\n",
    "    )\n",
    "\n",
    "end_time = time.time()\n",
    "execution_time = end_time - start_time\n",
    "print(\"Tempo di esecuzione: %.2f secondi\" % execution_time)\n",
    "\n",
    "response"
   ]
  },
  {
   "cell_type": "markdown",
   "id": "acef9a55-b893-45d2-824d-05f35f09ebc6",
   "metadata": {},
   "source": [
    "## **Delete**"
   ]
  },
  {
   "cell_type": "markdown",
   "id": "b06801c8-fe18-4747-acca-4d041b4e7426",
   "metadata": {},
   "source": [
    "### Delete one"
   ]
  },
  {
   "cell_type": "markdown",
   "id": "4c76a1cc-2b67-49f5-8e36-f9ef7626557c",
   "metadata": {
    "tags": []
   },
   "source": [
    "Eliminazione dell match numero  **27** del torneo con **ATP = 1**:"
   ]
  },
  {
   "cell_type": "code",
   "execution_count": 36,
   "id": "28bf456d-ecaa-41fc-918d-6a061b937c88",
   "metadata": {
    "tags": []
   },
   "outputs": [
    {
     "name": "stdout",
     "output_type": "stream",
     "text": [
      "Tempo di esecuzione: 0.01 secondi\n"
     ]
    },
    {
     "data": {
      "text/plain": [
       "{'ResponseMetadata': {'RequestId': 'afe430b8-1cef-4165-b2eb-797ad1422bc4',\n",
       "  'HTTPStatusCode': 200,\n",
       "  'HTTPHeaders': {'date': 'Tue, 30 May 2023 16:51:58 GMT',\n",
       "   'x-amzn-requestid': 'afe430b8-1cef-4165-b2eb-797ad1422bc4',\n",
       "   'content-type': 'application/x-amz-json-1.0',\n",
       "   'x-amz-crc32': '2745614147',\n",
       "   'content-length': '2',\n",
       "   'server': 'Jetty(9.4.48.v20220622)'},\n",
       "  'RetryAttempts': 0}}"
      ]
     },
     "execution_count": 36,
     "metadata": {},
     "output_type": "execute_result"
    }
   ],
   "source": [
    "start_time = time.time()\n",
    "delete_response = table.delete_item(\n",
    "    Key={\n",
    "        'ATP': 1,\n",
    "       'Match_ID': 27\n",
    "    }\n",
    ")\n",
    "end_time = time.time()\n",
    "\n",
    "execution_time = end_time - start_time\n",
    "print(f\"Tempo di esecuzione: %.2f secondi\" % execution_time)\n",
    "\n",
    "delete_response"
   ]
  },
  {
   "cell_type": "markdown",
   "id": "2f6341b9-25a2-49ea-873f-212fa43d5cd8",
   "metadata": {
    "tags": []
   },
   "source": [
    "### Delete many"
   ]
  },
  {
   "cell_type": "code",
   "execution_count": 37,
   "id": "2f2adf30-815f-4b58-b2e8-2d8e5658897e",
   "metadata": {
    "tags": []
   },
   "outputs": [
    {
     "name": "stdout",
     "output_type": "stream",
     "text": [
      "Tempo di esecuzione: 0.01 secondi\n"
     ]
    }
   ],
   "source": [
    "start_time = time.time()\n",
    "items_to_delete = [\n",
    "    {'ATP': 68, 'Match_ID': 11},\n",
    "    {'ATP': 51, 'Match_ID': 17},\n",
    "    {'ATP': 61, 'Match_ID': 0}\n",
    "]\n",
    "\n",
    "with table.batch_writer() as batch:\n",
    "    for item in items_to_delete:\n",
    "        batch.delete_item(Key=item)\n",
    "\n",
    "end_time = time.time()\n",
    "\n",
    "execution_time = end_time - start_time\n",
    "print(\"Tempo di esecuzione: %.2f secondi\" % execution_time)\n"
   ]
  },
  {
   "cell_type": "markdown",
   "id": "479d5245-7162-4647-a1f0-d7995ce388f8",
   "metadata": {},
   "source": [
    "# **Comparazione** con i **DBMS** visti a lezione"
   ]
  },
  {
   "cell_type": "markdown",
   "id": "de2059eb-64e4-4d4e-802d-c07432e41f78",
   "metadata": {},
   "source": [
    "**DynamoDB** si basa su un **modello chiave-valore** che offre un'elevata flessibilità nella struttura e nella organizzazione dei dati: a differenza degli modelli visti, i dati di  una tabella vengono salvati tramite una tabella di hash. E' possibile aggiungere, rimuovere o modificare gli attributi dei dati senza dover definire uno schema rigido in anticipo. Esistono due tipologie di chiavi:\n",
    "- la **partition key**, la chiave utilizzata dalla funzione di hash;\n",
    "- la **composite key**, formata dalla **partition key** e da una **range key**, che invece ordina i record con la stessa **partition key**;\n",
    "nella creazione della tabella va specificato il tipo di chiave che si vuole utilizzare: nel caso si scelga solo la **partition key**, essa deve essere unica; altrimenti, deve essere univoca la coppia **(partition key, range query**), ovvero una **chiave primaria composita**.\n",
    "\n",
    "Per quanto riguarda il linguaggio di interrogazione, **Amazon DynamoDB** non supporta un **query language** specifico; per eseguire **operazioni CRUD** occore utilizzare le **API** fornite da **AWS** (per esempio tramite lo [SDK](https://docs.aws.amazon.com/amazondynamodb/latest/APIReference/API_Operations.html)).\n",
    "\n",
    "Nel caso di **boto3** con **python**, le operazioni di lettura ricordano in parte la sintassi **SQL**: è possibile eseguire **selezioni**, **proiezioni** e **limitare** i risultati in output; tuttavia, non è possibile eseguire **join**, **raggruppamenti** o **ordinamenti** (se non sulla **range key**, effettuato di default ad ogni interrogazione). \n",
    "\n",
    "E' inoltre possibile definire due tipologie di **indici secondari**\n",
    "- **indici secondari locali**:  utilizzano la stessa **partition key** dell'indice primario ma permettono di utilizzare una diversa **range key**; di conseguenza essi possono essere definiti solo su tabelle con una **chiave primaria composita**;\n",
    "- **indici secondari globali**: non è necessario che condividano la stessa **partition key** dell'indice primario.\n",
    "\n",
    "La **documentazione ufficiale** è consultabile al seguente link: https://docs.aws.amazon.com/amazondynamodb/latest/developerguide/Introduction.html"
   ]
  },
  {
   "cell_type": "markdown",
   "id": "0fafff20-6ec9-4b81-b541-deef22227f5f",
   "metadata": {},
   "source": [
    "# Esempi di **query**"
   ]
  },
  {
   "cell_type": "markdown",
   "id": "77a0b5a0-87e4-4428-b442-e08c2ec50683",
   "metadata": {},
   "source": [
    "1) **Ricerca** per **chiave**: **tutte** le **partite** dell'ATP 29"
   ]
  },
  {
   "cell_type": "markdown",
   "id": "fddbff9c-2ba1-4e9e-bec7-9c0cea6b184e",
   "metadata": {},
   "source": [
    "**Senza indice primario** (scansione di tutto il db):"
   ]
  },
  {
   "cell_type": "code",
   "execution_count": 38,
   "id": "31666f18-565d-47fa-95ee-c82d1de764f7",
   "metadata": {
    "tags": []
   },
   "outputs": [
    {
     "name": "stdout",
     "output_type": "stream",
     "text": [
      "Tempo di esecuzione: 0.15 secondi\n"
     ]
    }
   ],
   "source": [
    "start_time = time.time()\n",
    "response_no_index = table.scan(FilterExpression = Attr('ATP').eq(29),\n",
    "                      ProjectionExpression = 'ATP, Series, Surface, Match_ID, Round, Tournament, #loc, Winner, Loser, #d',    #Location is a reserved keyword\n",
    "                      ExpressionAttributeNames = {'#loc': 'Location','#d': 'Date'})\n",
    "end_time = time.time()\n",
    "execution_time_1_noindex  = end_time - start_time\n",
    "print(\"Tempo di esecuzione: %.2f secondi\" % execution_time_1_noindex)"
   ]
  },
  {
   "cell_type": "markdown",
   "id": "09af172d-f335-4346-bb96-3a39c0bc8c2b",
   "metadata": {
    "tags": []
   },
   "source": [
    "**Tramite indice primario**:"
   ]
  },
  {
   "cell_type": "code",
   "execution_count": 39,
   "id": "e1f23551-73f3-4811-be44-4d5b2bc64452",
   "metadata": {
    "tags": []
   },
   "outputs": [
    {
     "name": "stdout",
     "output_type": "stream",
     "text": [
      "Tempo di esecuzione: 0.02 secondi\n"
     ]
    }
   ],
   "source": [
    "start_time = time.time()\n",
    "response_index = table.query(KeyConditionExpression = Key('ATP').eq(29),\n",
    "                      ProjectionExpression = 'ATP, Series, Surface, Match_ID, Round, Tournament, #loc, Winner, Loser, #d',    #Location is a reserved keyword\n",
    "                      ExpressionAttributeNames = {'#loc': 'Location','#d': 'Date'},\n",
    "                      ScanIndexForward = False)\n",
    "end_time = time.time()\n",
    "execution_time_1_index  = end_time - start_time\n",
    "print(\"Tempo di esecuzione: %.2f secondi\" % execution_time_1_index)"
   ]
  },
  {
   "cell_type": "code",
   "execution_count": 40,
   "id": "070e026e-1237-4679-b4e9-82cdf02ad13d",
   "metadata": {
    "tags": []
   },
   "outputs": [
    {
     "data": {
      "text/html": [
       "<table>\n",
       "    <thead>\n",
       "        <tr>\n",
       "            <th>ATP</th>\n",
       "            <th>Tournament</th>\n",
       "            <th>Location</th>\n",
       "            <th>Series</th>\n",
       "            <th>Round</th>\n",
       "            <th>Date</th>\n",
       "            <th>Match_ID</th>\n",
       "            <th>Surface</th>\n",
       "            <th>Winner</th>\n",
       "            <th>Loser</th>\n",
       "        </tr>\n",
       "    </thead>\n",
       "    <tbody>\n",
       "        <tr>\n",
       "            <td>29</td>\n",
       "            <td>Internazionali BNL d&#x27;Italia</td>\n",
       "            <td>Rome</td>\n",
       "            <td>Masters 1000</td>\n",
       "            <td>The Final</td>\n",
       "            <td>5/15/2022</td>\n",
       "            <td>54</td>\n",
       "            <td>Clay</td>\n",
       "            <td>Djokovic N.</td>\n",
       "            <td>Tsitsipas S.</td>\n",
       "        </tr>\n",
       "        <tr>\n",
       "            <td>29</td>\n",
       "            <td>Internazionali BNL d&#x27;Italia</td>\n",
       "            <td>Rome</td>\n",
       "            <td>Masters 1000</td>\n",
       "            <td>Semifinals</td>\n",
       "            <td>5/14/2022</td>\n",
       "            <td>53</td>\n",
       "            <td>Clay</td>\n",
       "            <td>Djokovic N.</td>\n",
       "            <td>Ruud C.</td>\n",
       "        </tr>\n",
       "        <tr>\n",
       "            <td>29</td>\n",
       "            <td>Internazionali BNL d&#x27;Italia</td>\n",
       "            <td>Rome</td>\n",
       "            <td>Masters 1000</td>\n",
       "            <td>Semifinals</td>\n",
       "            <td>5/14/2022</td>\n",
       "            <td>52</td>\n",
       "            <td>Clay</td>\n",
       "            <td>Tsitsipas S.</td>\n",
       "            <td>Zverev A.</td>\n",
       "        </tr>\n",
       "        <tr>\n",
       "            <td>29</td>\n",
       "            <td>Internazionali BNL d&#x27;Italia</td>\n",
       "            <td>Rome</td>\n",
       "            <td>Masters 1000</td>\n",
       "            <td>Quarterfinals</td>\n",
       "            <td>5/13/2022</td>\n",
       "            <td>51</td>\n",
       "            <td>Clay</td>\n",
       "            <td>Djokovic N.</td>\n",
       "            <td>Auger-Aliassime F.</td>\n",
       "        </tr>\n",
       "        <tr>\n",
       "            <td>29</td>\n",
       "            <td>Internazionali BNL d&#x27;Italia</td>\n",
       "            <td>Rome</td>\n",
       "            <td>Masters 1000</td>\n",
       "            <td>Quarterfinals</td>\n",
       "            <td>5/13/2022</td>\n",
       "            <td>50</td>\n",
       "            <td>Clay</td>\n",
       "            <td>Ruud C.</td>\n",
       "            <td>Shapovalov D.</td>\n",
       "        </tr>\n",
       "        <tr>\n",
       "            <td>29</td>\n",
       "            <td>Internazionali BNL d&#x27;Italia</td>\n",
       "            <td>Rome</td>\n",
       "            <td>Masters 1000</td>\n",
       "            <td>Quarterfinals</td>\n",
       "            <td>5/13/2022</td>\n",
       "            <td>49</td>\n",
       "            <td>Clay</td>\n",
       "            <td>Tsitsipas S.</td>\n",
       "            <td>Sinner J.</td>\n",
       "        </tr>\n",
       "        <tr>\n",
       "            <td>29</td>\n",
       "            <td>Internazionali BNL d&#x27;Italia</td>\n",
       "            <td>Rome</td>\n",
       "            <td>Masters 1000</td>\n",
       "            <td>Quarterfinals</td>\n",
       "            <td>5/13/2022</td>\n",
       "            <td>48</td>\n",
       "            <td>Clay</td>\n",
       "            <td>Zverev A.</td>\n",
       "            <td>Garin C.</td>\n",
       "        </tr>\n",
       "        <tr>\n",
       "            <td>29</td>\n",
       "            <td>Internazionali BNL d&#x27;Italia</td>\n",
       "            <td>Rome</td>\n",
       "            <td>Masters 1000</td>\n",
       "            <td>3rd Round</td>\n",
       "            <td>5/12/2022</td>\n",
       "            <td>47</td>\n",
       "            <td>Clay</td>\n",
       "            <td>Shapovalov D.</td>\n",
       "            <td>Nadal R.</td>\n",
       "        </tr>\n",
       "        <tr>\n",
       "            <td>29</td>\n",
       "            <td>Internazionali BNL d&#x27;Italia</td>\n",
       "            <td>Rome</td>\n",
       "            <td>Masters 1000</td>\n",
       "            <td>3rd Round</td>\n",
       "            <td>5/12/2022</td>\n",
       "            <td>46</td>\n",
       "            <td>Clay</td>\n",
       "            <td>Ruud C.</td>\n",
       "            <td>Brooksby J.</td>\n",
       "        </tr>\n",
       "        <tr>\n",
       "            <td>29</td>\n",
       "            <td>Internazionali BNL d&#x27;Italia</td>\n",
       "            <td>Rome</td>\n",
       "            <td>Masters 1000</td>\n",
       "            <td>3rd Round</td>\n",
       "            <td>5/12/2022</td>\n",
       "            <td>45</td>\n",
       "            <td>Clay</td>\n",
       "            <td>Djokovic N.</td>\n",
       "            <td>Wawrinka S.</td>\n",
       "        </tr>\n",
       "        <tr>\n",
       "            <td>29</td>\n",
       "            <td>Internazionali BNL d&#x27;Italia</td>\n",
       "            <td>Rome</td>\n",
       "            <td>Masters 1000</td>\n",
       "            <td>3rd Round</td>\n",
       "            <td>5/12/2022</td>\n",
       "            <td>44</td>\n",
       "            <td>Clay</td>\n",
       "            <td>Garin C.</td>\n",
       "            <td>Cilic M.</td>\n",
       "        </tr>\n",
       "        <tr>\n",
       "            <td>29</td>\n",
       "            <td>Internazionali BNL d&#x27;Italia</td>\n",
       "            <td>Rome</td>\n",
       "            <td>Masters 1000</td>\n",
       "            <td>3rd Round</td>\n",
       "            <td>5/12/2022</td>\n",
       "            <td>43</td>\n",
       "            <td>Clay</td>\n",
       "            <td>Sinner J.</td>\n",
       "            <td>Krajinovic F.</td>\n",
       "        </tr>\n",
       "        <tr>\n",
       "            <td>29</td>\n",
       "            <td>Internazionali BNL d&#x27;Italia</td>\n",
       "            <td>Rome</td>\n",
       "            <td>Masters 1000</td>\n",
       "            <td>3rd Round</td>\n",
       "            <td>5/12/2022</td>\n",
       "            <td>42</td>\n",
       "            <td>Clay</td>\n",
       "            <td>Auger-Aliassime F.</td>\n",
       "            <td>Giron M.</td>\n",
       "        </tr>\n",
       "        <tr>\n",
       "            <td>29</td>\n",
       "            <td>Internazionali BNL d&#x27;Italia</td>\n",
       "            <td>Rome</td>\n",
       "            <td>Masters 1000</td>\n",
       "            <td>3rd Round</td>\n",
       "            <td>5/12/2022</td>\n",
       "            <td>41</td>\n",
       "            <td>Clay</td>\n",
       "            <td>Tsitsipas S.</td>\n",
       "            <td>Khachanov K.</td>\n",
       "        </tr>\n",
       "        <tr>\n",
       "            <td>29</td>\n",
       "            <td>Internazionali BNL d&#x27;Italia</td>\n",
       "            <td>Rome</td>\n",
       "            <td>Masters 1000</td>\n",
       "            <td>3rd Round</td>\n",
       "            <td>5/12/2022</td>\n",
       "            <td>40</td>\n",
       "            <td>Clay</td>\n",
       "            <td>Zverev A.</td>\n",
       "            <td>De Minaur A.</td>\n",
       "        </tr>\n",
       "        <tr>\n",
       "            <td>29</td>\n",
       "            <td>Internazionali BNL d&#x27;Italia</td>\n",
       "            <td>Rome</td>\n",
       "            <td>Masters 1000</td>\n",
       "            <td>2nd Round</td>\n",
       "            <td>5/11/2022</td>\n",
       "            <td>39</td>\n",
       "            <td>Clay</td>\n",
       "            <td>Cilic M.</td>\n",
       "            <td>Norrie C.</td>\n",
       "        </tr>\n",
       "        <tr>\n",
       "            <td>29</td>\n",
       "            <td>Internazionali BNL d&#x27;Italia</td>\n",
       "            <td>Rome</td>\n",
       "            <td>Masters 1000</td>\n",
       "            <td>2nd Round</td>\n",
       "            <td>5/11/2022</td>\n",
       "            <td>38</td>\n",
       "            <td>Clay</td>\n",
       "            <td>Sinner J.</td>\n",
       "            <td>Fognini F.</td>\n",
       "        </tr>\n",
       "        <tr>\n",
       "            <td>29</td>\n",
       "            <td>Internazionali BNL d&#x27;Italia</td>\n",
       "            <td>Rome</td>\n",
       "            <td>Masters 1000</td>\n",
       "            <td>2nd Round</td>\n",
       "            <td>5/11/2022</td>\n",
       "            <td>37</td>\n",
       "            <td>Clay</td>\n",
       "            <td>Wawrinka S.</td>\n",
       "            <td>Djere L.</td>\n",
       "        </tr>\n",
       "        <tr>\n",
       "            <td>29</td>\n",
       "            <td>Internazionali BNL d&#x27;Italia</td>\n",
       "            <td>Rome</td>\n",
       "            <td>Masters 1000</td>\n",
       "            <td>2nd Round</td>\n",
       "            <td>5/11/2022</td>\n",
       "            <td>36</td>\n",
       "            <td>Clay</td>\n",
       "            <td>Brooksby J.</td>\n",
       "            <td>Goffin D.</td>\n",
       "        </tr>\n",
       "        <tr>\n",
       "            <td>29</td>\n",
       "            <td>Internazionali BNL d&#x27;Italia</td>\n",
       "            <td>Rome</td>\n",
       "            <td>Masters 1000</td>\n",
       "            <td>2nd Round</td>\n",
       "            <td>5/11/2022</td>\n",
       "            <td>35</td>\n",
       "            <td>Clay</td>\n",
       "            <td>Giron M.</td>\n",
       "            <td>Schwartzman D.</td>\n",
       "        </tr>\n",
       "    </tbody>\n",
       "</table>"
      ],
      "text/plain": [
       "+-----+-----------------------------+----------+--------------+---------------+-----------+----------+---------+--------------------+--------------------+\n",
       "| ATP |          Tournament         | Location |    Series    |     Round     |    Date   | Match_ID | Surface |       Winner       |       Loser        |\n",
       "+-----+-----------------------------+----------+--------------+---------------+-----------+----------+---------+--------------------+--------------------+\n",
       "|  29 | Internazionali BNL d'Italia |   Rome   | Masters 1000 |   The Final   | 5/15/2022 |    54    |   Clay  |    Djokovic N.     |    Tsitsipas S.    |\n",
       "|  29 | Internazionali BNL d'Italia |   Rome   | Masters 1000 |   Semifinals  | 5/14/2022 |    53    |   Clay  |    Djokovic N.     |      Ruud C.       |\n",
       "|  29 | Internazionali BNL d'Italia |   Rome   | Masters 1000 |   Semifinals  | 5/14/2022 |    52    |   Clay  |    Tsitsipas S.    |     Zverev A.      |\n",
       "|  29 | Internazionali BNL d'Italia |   Rome   | Masters 1000 | Quarterfinals | 5/13/2022 |    51    |   Clay  |    Djokovic N.     | Auger-Aliassime F. |\n",
       "|  29 | Internazionali BNL d'Italia |   Rome   | Masters 1000 | Quarterfinals | 5/13/2022 |    50    |   Clay  |      Ruud C.       |   Shapovalov D.    |\n",
       "|  29 | Internazionali BNL d'Italia |   Rome   | Masters 1000 | Quarterfinals | 5/13/2022 |    49    |   Clay  |    Tsitsipas S.    |     Sinner J.      |\n",
       "|  29 | Internazionali BNL d'Italia |   Rome   | Masters 1000 | Quarterfinals | 5/13/2022 |    48    |   Clay  |     Zverev A.      |      Garin C.      |\n",
       "|  29 | Internazionali BNL d'Italia |   Rome   | Masters 1000 |   3rd Round   | 5/12/2022 |    47    |   Clay  |   Shapovalov D.    |      Nadal R.      |\n",
       "|  29 | Internazionali BNL d'Italia |   Rome   | Masters 1000 |   3rd Round   | 5/12/2022 |    46    |   Clay  |      Ruud C.       |    Brooksby J.     |\n",
       "|  29 | Internazionali BNL d'Italia |   Rome   | Masters 1000 |   3rd Round   | 5/12/2022 |    45    |   Clay  |    Djokovic N.     |    Wawrinka S.     |\n",
       "|  29 | Internazionali BNL d'Italia |   Rome   | Masters 1000 |   3rd Round   | 5/12/2022 |    44    |   Clay  |      Garin C.      |      Cilic M.      |\n",
       "|  29 | Internazionali BNL d'Italia |   Rome   | Masters 1000 |   3rd Round   | 5/12/2022 |    43    |   Clay  |     Sinner J.      |   Krajinovic F.    |\n",
       "|  29 | Internazionali BNL d'Italia |   Rome   | Masters 1000 |   3rd Round   | 5/12/2022 |    42    |   Clay  | Auger-Aliassime F. |      Giron M.      |\n",
       "|  29 | Internazionali BNL d'Italia |   Rome   | Masters 1000 |   3rd Round   | 5/12/2022 |    41    |   Clay  |    Tsitsipas S.    |    Khachanov K.    |\n",
       "|  29 | Internazionali BNL d'Italia |   Rome   | Masters 1000 |   3rd Round   | 5/12/2022 |    40    |   Clay  |     Zverev A.      |    De Minaur A.    |\n",
       "|  29 | Internazionali BNL d'Italia |   Rome   | Masters 1000 |   2nd Round   | 5/11/2022 |    39    |   Clay  |      Cilic M.      |     Norrie C.      |\n",
       "|  29 | Internazionali BNL d'Italia |   Rome   | Masters 1000 |   2nd Round   | 5/11/2022 |    38    |   Clay  |     Sinner J.      |     Fognini F.     |\n",
       "|  29 | Internazionali BNL d'Italia |   Rome   | Masters 1000 |   2nd Round   | 5/11/2022 |    37    |   Clay  |    Wawrinka S.     |      Djere L.      |\n",
       "|  29 | Internazionali BNL d'Italia |   Rome   | Masters 1000 |   2nd Round   | 5/11/2022 |    36    |   Clay  |    Brooksby J.     |     Goffin D.      |\n",
       "|  29 | Internazionali BNL d'Italia |   Rome   | Masters 1000 |   2nd Round   | 5/11/2022 |    35    |   Clay  |      Giron M.      |   Schwartzman D.   |\n",
       "+-----+-----------------------------+----------+--------------+---------------+-----------+----------+---------+--------------------+--------------------+"
      ]
     },
     "execution_count": 40,
     "metadata": {},
     "output_type": "execute_result"
    }
   ],
   "source": [
    "prettify_table(response_index['Items'][:20], ['ATP', 'Tournament', 'Location', 'Series', 'Round', 'Date', 'Match_ID', 'Surface', 'Winner', 'Loser'])"
   ]
  },
  {
   "cell_type": "markdown",
   "id": "40aa4ded-d171-4399-b2ec-17e4850af1a7",
   "metadata": {},
   "source": [
    "2) **Range query**: tutte le partite dell'**ATP 23** tra il **14 Aprile** e il **19 Aprile** vinte da **Stefanos Tsitsipas**:"
   ]
  },
  {
   "cell_type": "markdown",
   "id": "6d584421-79ef-4e7b-b368-0f6b506d675e",
   "metadata": {},
   "source": [
    "Senza **LSI**:"
   ]
  },
  {
   "cell_type": "code",
   "execution_count": 41,
   "id": "dd71c1dc-b554-4ab9-a03c-1b3aeb70dd63",
   "metadata": {
    "tags": []
   },
   "outputs": [
    {
     "name": "stdout",
     "output_type": "stream",
     "text": [
      "Tempo di esecuzione: 0.35 secondi\n"
     ]
    }
   ],
   "source": [
    "start_time = time.time()\n",
    "response_no_index = table.scan(FilterExpression = Attr('ATP').eq(23) & Attr('Date').between('4/14/2022', '4/19/2022')\n",
    "                               & Attr('Winner').eq('Tsitsipas S.'),\n",
    "                               ProjectionExpression='ATP, Tournament, #loc, Round, #d, Winner, Match_ID, Loser',    #Location, Date are reserved keywords\n",
    "                               ExpressionAttributeNames = {'#loc': 'Location', '#d': 'Date'})\n",
    "end_time = time.time()\n",
    "execution_time_2_noindex  = end_time - start_time\n",
    "print(\"Tempo di esecuzione: %.2f secondi\" % execution_time_2_noindex)"
   ]
  },
  {
   "cell_type": "markdown",
   "id": "1603df5a-fd15-4dfd-a6bd-3cf7133dfeda",
   "metadata": {},
   "source": [
    "Con **LSI** su *Date*:"
   ]
  },
  {
   "cell_type": "code",
   "execution_count": 42,
   "id": "ae9ea1d0-9c18-47b1-aa36-aa4eb0edc099",
   "metadata": {
    "tags": []
   },
   "outputs": [
    {
     "name": "stdout",
     "output_type": "stream",
     "text": [
      "Tempo di esecuzione: 0.03 secondi\n"
     ]
    }
   ],
   "source": [
    "start_time = time.time()\n",
    "response_index = table_with_local_index.query(IndexName='DateIndex',\n",
    "                                              KeyConditionExpression = Key('ATP').eq(23) & Key('Date').between('4/14/2022', '4/19/2022'),\n",
    "                                              FilterExpression = Attr('Winner').eq('Tsitsipas S.'),\n",
    "                                              ProjectionExpression='ATP, Tournament, #loc, Round, #d, Winner, Match_ID, Loser',    #Location, Date are reserved keywords\n",
    "                                              ExpressionAttributeNames = {'#loc': 'Location', '#d': 'Date'})\n",
    "end_time = time.time()\n",
    "execution_time_2_index  = end_time - start_time\n",
    "print(\"Tempo di esecuzione: %.2f secondi\" % execution_time_2_index)"
   ]
  },
  {
   "cell_type": "code",
   "execution_count": 43,
   "id": "00677797-8673-4b0c-8c19-e6825238041a",
   "metadata": {
    "tags": []
   },
   "outputs": [
    {
     "data": {
      "text/html": [
       "<table>\n",
       "    <thead>\n",
       "        <tr>\n",
       "            <th>Match_ID</th>\n",
       "            <th>Round</th>\n",
       "            <th>ATP</th>\n",
       "            <th>Tournament</th>\n",
       "            <th>Date</th>\n",
       "            <th>Loser</th>\n",
       "            <th>Location</th>\n",
       "            <th>Winner</th>\n",
       "        </tr>\n",
       "    </thead>\n",
       "    <tbody>\n",
       "        <tr>\n",
       "            <td>44</td>\n",
       "            <td>3rd Round</td>\n",
       "            <td>23</td>\n",
       "            <td>Monte Carlo Masters</td>\n",
       "            <td>4/14/2022</td>\n",
       "            <td>Djere L.</td>\n",
       "            <td>Monte Carlo</td>\n",
       "            <td>Tsitsipas S.</td>\n",
       "        </tr>\n",
       "        <tr>\n",
       "            <td>51</td>\n",
       "            <td>Quarterfinals</td>\n",
       "            <td>23</td>\n",
       "            <td>Monte Carlo Masters</td>\n",
       "            <td>4/15/2022</td>\n",
       "            <td>Schwartzman D.</td>\n",
       "            <td>Monte Carlo</td>\n",
       "            <td>Tsitsipas S.</td>\n",
       "        </tr>\n",
       "        <tr>\n",
       "            <td>53</td>\n",
       "            <td>Semifinals</td>\n",
       "            <td>23</td>\n",
       "            <td>Monte Carlo Masters</td>\n",
       "            <td>4/16/2022</td>\n",
       "            <td>Zverev A.</td>\n",
       "            <td>Monte Carlo</td>\n",
       "            <td>Tsitsipas S.</td>\n",
       "        </tr>\n",
       "        <tr>\n",
       "            <td>54</td>\n",
       "            <td>The Final</td>\n",
       "            <td>23</td>\n",
       "            <td>Monte Carlo Masters</td>\n",
       "            <td>4/17/2022</td>\n",
       "            <td>Davidovich Fokina A.</td>\n",
       "            <td>Monte Carlo</td>\n",
       "            <td>Tsitsipas S.</td>\n",
       "        </tr>\n",
       "    </tbody>\n",
       "</table>"
      ],
      "text/plain": [
       "+----------+---------------+-----+---------------------+-----------+----------------------+-------------+--------------+\n",
       "| Match_ID |     Round     | ATP |      Tournament     |    Date   |        Loser         |   Location  |    Winner    |\n",
       "+----------+---------------+-----+---------------------+-----------+----------------------+-------------+--------------+\n",
       "|    44    |   3rd Round   |  23 | Monte Carlo Masters | 4/14/2022 |       Djere L.       | Monte Carlo | Tsitsipas S. |\n",
       "|    51    | Quarterfinals |  23 | Monte Carlo Masters | 4/15/2022 |    Schwartzman D.    | Monte Carlo | Tsitsipas S. |\n",
       "|    53    |   Semifinals  |  23 | Monte Carlo Masters | 4/16/2022 |      Zverev A.       | Monte Carlo | Tsitsipas S. |\n",
       "|    54    |   The Final   |  23 | Monte Carlo Masters | 4/17/2022 | Davidovich Fokina A. | Monte Carlo | Tsitsipas S. |\n",
       "+----------+---------------+-----+---------------------+-----------+----------------------+-------------+--------------+"
      ]
     },
     "execution_count": 43,
     "metadata": {},
     "output_type": "execute_result"
    }
   ],
   "source": [
    "assert response_no_index['Items'] == response_index['Items'], \"Differents queries results\"\n",
    "prettify_table(response_index['Items'])"
   ]
  },
  {
   "cell_type": "markdown",
   "id": "d3ad1a1a-65f6-4958-8e60-5fa20bacb2c5",
   "metadata": {},
   "source": [
    "3) Tutti i **giocatori** che hanno battuto **Jannick Sinner** in **meno di 4 set** nel 2022 su **terra rossa**:"
   ]
  },
  {
   "cell_type": "code",
   "execution_count": 44,
   "id": "ba11c9e6-6073-469d-9986-cd04f7a747ee",
   "metadata": {
    "tags": []
   },
   "outputs": [
    {
     "name": "stdout",
     "output_type": "stream",
     "text": [
      "Tempo di esecuzione: 0.33 secondi\n"
     ]
    }
   ],
   "source": [
    "start_time = time.time()\n",
    "response = table.scan(FilterExpression = Attr('Loser').eq('Sinner J.') & \n",
    "                      Attr('W4').eq('') & Attr('L4').eq('') & Attr('Surface').eq('Clay'),\n",
    "                      ProjectionExpression='Tournament, #loc, Surface, Round, #d, Winner, Loser, W1, L1, W2, L2, W3, L3',    #Location, Date are reserved keywords\n",
    "                      ExpressionAttributeNames = {'#d': 'Date', '#loc': 'Location'})\n",
    "end_time = time.time()\n",
    "execution_time_3  = end_time - start_time\n",
    "print(\"Tempo di esecuzione: %.2f secondi\" % execution_time_3)"
   ]
  },
  {
   "cell_type": "code",
   "execution_count": 45,
   "id": "6a9ec464-a6b6-4a92-9dd9-5f74a4775383",
   "metadata": {
    "tags": []
   },
   "outputs": [
    {
     "data": {
      "text/html": [
       "<table>\n",
       "    <thead>\n",
       "        <tr>\n",
       "            <th>Tournament</th>\n",
       "            <th>Location</th>\n",
       "            <th>Round</th>\n",
       "            <th>Date</th>\n",
       "            <th>Winner</th>\n",
       "            <th>Loser</th>\n",
       "            <th>Surface</th>\n",
       "            <th>W1</th>\n",
       "            <th>W2</th>\n",
       "            <th>W3</th>\n",
       "            <th>L1</th>\n",
       "            <th>L2</th>\n",
       "            <th>L3</th>\n",
       "        </tr>\n",
       "    </thead>\n",
       "    <tbody>\n",
       "        <tr>\n",
       "            <td>Monte Carlo Masters</td>\n",
       "            <td>Monte Carlo</td>\n",
       "            <td>Quarterfinals</td>\n",
       "            <td>4/15/2022</td>\n",
       "            <td>Zverev A.</td>\n",
       "            <td>Sinner J.</td>\n",
       "            <td>Clay</td>\n",
       "            <td>5</td>\n",
       "            <td>6</td>\n",
       "            <td>7</td>\n",
       "            <td>7</td>\n",
       "            <td>3</td>\n",
       "            <td>6</td>\n",
       "        </tr>\n",
       "        <tr>\n",
       "            <td>Mutua Madrid Open</td>\n",
       "            <td>Madrid</td>\n",
       "            <td>3rd Round</td>\n",
       "            <td>5/5/2022</td>\n",
       "            <td>Auger-Aliassime F.</td>\n",
       "            <td>Sinner J.</td>\n",
       "            <td>Clay</td>\n",
       "            <td>6</td>\n",
       "            <td>6</td>\n",
       "            <td></td>\n",
       "            <td>1</td>\n",
       "            <td>2</td>\n",
       "            <td></td>\n",
       "        </tr>\n",
       "        <tr>\n",
       "            <td>Internazionali BNL d&#x27;Italia</td>\n",
       "            <td>Rome</td>\n",
       "            <td>Quarterfinals</td>\n",
       "            <td>5/13/2022</td>\n",
       "            <td>Tsitsipas S.</td>\n",
       "            <td>Sinner J.</td>\n",
       "            <td>Clay</td>\n",
       "            <td>7</td>\n",
       "            <td>6</td>\n",
       "            <td></td>\n",
       "            <td>6</td>\n",
       "            <td>2</td>\n",
       "            <td></td>\n",
       "        </tr>\n",
       "        <tr>\n",
       "            <td>French Open</td>\n",
       "            <td>Paris</td>\n",
       "            <td>4th Round</td>\n",
       "            <td>5/30/2022</td>\n",
       "            <td>Rublev A.</td>\n",
       "            <td>Sinner J.</td>\n",
       "            <td>Clay</td>\n",
       "            <td>1</td>\n",
       "            <td>6</td>\n",
       "            <td>2</td>\n",
       "            <td>6</td>\n",
       "            <td>4</td>\n",
       "            <td>0</td>\n",
       "        </tr>\n",
       "    </tbody>\n",
       "</table>"
      ],
      "text/plain": [
       "+-----------------------------+-------------+---------------+-----------+--------------------+-----------+---------+----+----+----+----+----+----+\n",
       "|          Tournament         |   Location  |     Round     |    Date   |       Winner       |   Loser   | Surface | W1 | W2 | W3 | L1 | L2 | L3 |\n",
       "+-----------------------------+-------------+---------------+-----------+--------------------+-----------+---------+----+----+----+----+----+----+\n",
       "|     Monte Carlo Masters     | Monte Carlo | Quarterfinals | 4/15/2022 |     Zverev A.      | Sinner J. |   Clay  | 5  | 6  | 7  | 7  | 3  | 6  |\n",
       "|      Mutua Madrid Open      |    Madrid   |   3rd Round   |  5/5/2022 | Auger-Aliassime F. | Sinner J. |   Clay  | 6  | 6  |    | 1  | 2  |    |\n",
       "| Internazionali BNL d'Italia |     Rome    | Quarterfinals | 5/13/2022 |    Tsitsipas S.    | Sinner J. |   Clay  | 7  | 6  |    | 6  | 2  |    |\n",
       "|         French Open         |    Paris    |   4th Round   | 5/30/2022 |     Rublev A.      | Sinner J. |   Clay  | 1  | 6  | 2  | 6  | 4  | 0  |\n",
       "+-----------------------------+-------------+---------------+-----------+--------------------+-----------+---------+----+----+----+----+----+----+"
      ]
     },
     "execution_count": 45,
     "metadata": {},
     "output_type": "execute_result"
    }
   ],
   "source": [
    "prettify_table(response['Items'], ['Tournament', 'Location', 'Round', 'Date', 'Winner', 'Loser', 'Surface', 'W1', 'W2', 'W3', 'L1', 'L2', 'L3'])"
   ]
  },
  {
   "cell_type": "markdown",
   "id": "72afe320-5015-4c54-9375-778bd7adea01",
   "metadata": {
    "tags": []
   },
   "source": [
    "## Definizione di un **Global Secondary Index (GSI)**\n",
    "\n",
    "Definizione di un **GSI** basato sulla **compostite key** <code>(Tournament, Match_ID)</code>:"
   ]
  },
  {
   "cell_type": "code",
   "execution_count": 46,
   "id": "ce7e75ef-7cbe-4a8c-be57-d95de6583ac2",
   "metadata": {
    "tags": []
   },
   "outputs": [],
   "source": [
    " resp = dynamoDB_client.update_table(\n",
    "        TableName=\"atp_2022\",\n",
    "        GlobalSecondaryIndexUpdates=[\n",
    "            {\n",
    "                \"Create\": {\n",
    "                    \"IndexName\": \"TournamentIndex\",\n",
    "                    \"KeySchema\": [\n",
    "                        {\n",
    "                            \"AttributeName\": \"Tournament\",\n",
    "                            \"KeyType\": \"HASH\"\n",
    "                        },\n",
    "                        {\n",
    "                            \"AttributeName\": \"Match_ID\",\n",
    "                            \"KeyType\": \"RANGE\"\n",
    "                        }\n",
    "                    ],\n",
    "                    \"Projection\": {\n",
    "                        \"ProjectionType\": \"ALL\"\n",
    "                    },\n",
    "                    \"ProvisionedThroughput\": {\n",
    "                        \"ReadCapacityUnits\": 1,\n",
    "                        \"WriteCapacityUnits\": 1,\n",
    "                    }\n",
    "                }\n",
    "            }\n",
    "        ],\n",
    "        AttributeDefinitions=[\n",
    "            {\n",
    "                \"AttributeName\": \"Tournament\",\n",
    "                \"AttributeType\": \"S\"\n",
    "            },\n",
    "            {\n",
    "                \"AttributeName\": \"Match_ID\",\n",
    "                \"AttributeType\": \"N\"\n",
    "            }\n",
    "        ],\n",
    "    )"
   ]
  },
  {
   "cell_type": "code",
   "execution_count": 47,
   "id": "5e31ebea-9106-4678-abc1-66b2aaa3ded4",
   "metadata": {
    "tags": []
   },
   "outputs": [
    {
     "data": {
      "text/plain": [
       "[{'IndexName': 'TournamentIndex',\n",
       "  'KeySchema': [{'AttributeName': 'Tournament', 'KeyType': 'HASH'},\n",
       "   {'AttributeName': 'Match_ID', 'KeyType': 'RANGE'}],\n",
       "  'Projection': {'ProjectionType': 'ALL'},\n",
       "  'IndexStatus': 'CREATING',\n",
       "  'Backfilling': False,\n",
       "  'ProvisionedThroughput': {'ReadCapacityUnits': 1, 'WriteCapacityUnits': 1},\n",
       "  'IndexArn': 'arn:aws:dynamodb:ddblocal:000000000000:table/atp_2022/index/TournamentIndex'}]"
      ]
     },
     "execution_count": 47,
     "metadata": {},
     "output_type": "execute_result"
    }
   ],
   "source": [
    "resp['TableDescription']['GlobalSecondaryIndexes']"
   ]
  },
  {
   "cell_type": "markdown",
   "id": "69693ada-9178-4434-a838-49f7384dd702",
   "metadata": {},
   "source": [
    "4) Le ultime **15 partite** del torneo di **Wimbledon**:"
   ]
  },
  {
   "cell_type": "markdown",
   "id": "ce9e0115-9a2e-418b-b706-a4c9cc7c6d79",
   "metadata": {},
   "source": [
    "Senza **GSI** **(Query innestata)**:"
   ]
  },
  {
   "cell_type": "code",
   "execution_count": 48,
   "id": "6e3ae82f-bcab-4f2a-87a0-086598bdbbfa",
   "metadata": {
    "tags": []
   },
   "outputs": [
    {
     "name": "stdout",
     "output_type": "stream",
     "text": [
      "Tempo di esecuzione: 0.83 secondi\n"
     ]
    }
   ],
   "source": [
    "start_time = time.time()\n",
    "response_no_index = table.query(KeyConditionExpression = Key('ATP').eq(\n",
    "    table.scan(FilterExpression = Attr('Tournament').eq('Wimbledon'),\n",
    "               ProjectionExpression='ATP'\n",
    "              )['Items'][0]['ATP']),\n",
    "                                ProjectionExpression='Tournament, #loc, Round, #d, Winner, Match_ID, Loser',    #Location, Date are reserved keywords\n",
    "                                ExpressionAttributeNames = {'#loc': 'Location', '#d': 'Date'},\n",
    "                                ScanIndexForward = False,\n",
    "                                Limit = 15\n",
    "                               )\n",
    "end_time = time.time()\n",
    "execution_time_4_noindex  = end_time - start_time\n",
    "print(\"Tempo di esecuzione: %.2f secondi\" % execution_time_4_noindex)"
   ]
  },
  {
   "cell_type": "markdown",
   "id": "22a97428-f5db-487e-a261-3612b96058db",
   "metadata": {},
   "source": [
    "Con **GSI** su *Tournament*:"
   ]
  },
  {
   "cell_type": "code",
   "execution_count": 49,
   "id": "425bcad8-378f-4145-a90d-3efd12d934d1",
   "metadata": {
    "tags": []
   },
   "outputs": [
    {
     "name": "stdout",
     "output_type": "stream",
     "text": [
      "Tempo di esecuzione: 0.01 secondi\n"
     ]
    }
   ],
   "source": [
    "start_time = time.time()\n",
    "response_index = table.query(IndexName = 'TournamentIndex',\n",
    "                             KeyConditionExpression = Key('Tournament').eq('Wimbledon'),\n",
    "                             ProjectionExpression='Tournament, #loc, Round, #d, Winner, Match_ID, Loser',    #Location, Date are reserved keywords\n",
    "                             ExpressionAttributeNames = {'#loc': 'Location', '#d': 'Date'},\n",
    "                             ScanIndexForward = False,\n",
    "                             Limit = 15)\n",
    "end_time = time.time()\n",
    "execution_time_4_index  = end_time - start_time\n",
    "print(\"Tempo di esecuzione: %.2f secondi\" % execution_time_4_index)"
   ]
  },
  {
   "cell_type": "code",
   "execution_count": 50,
   "id": "37e63917-fd60-4568-8942-e55a2f7b2e4f",
   "metadata": {
    "tags": []
   },
   "outputs": [
    {
     "data": {
      "text/html": [
       "<table>\n",
       "    <thead>\n",
       "        <tr>\n",
       "            <th>Tournament</th>\n",
       "            <th>Location</th>\n",
       "            <th>Round</th>\n",
       "            <th>Date</th>\n",
       "            <th>Match_ID</th>\n",
       "            <th>Winner</th>\n",
       "            <th>Loser</th>\n",
       "        </tr>\n",
       "    </thead>\n",
       "    <tbody>\n",
       "        <tr>\n",
       "            <td>Wimbledon</td>\n",
       "            <td>London</td>\n",
       "            <td>The Final</td>\n",
       "            <td>7/10/2022</td>\n",
       "            <td>126</td>\n",
       "            <td>Djokovic N.</td>\n",
       "            <td>Kyrgios N.</td>\n",
       "        </tr>\n",
       "        <tr>\n",
       "            <td>Wimbledon</td>\n",
       "            <td>London</td>\n",
       "            <td>Semifinals</td>\n",
       "            <td>7/8/2022</td>\n",
       "            <td>125</td>\n",
       "            <td>Kyrgios N.</td>\n",
       "            <td>Nadal R.</td>\n",
       "        </tr>\n",
       "        <tr>\n",
       "            <td>Wimbledon</td>\n",
       "            <td>London</td>\n",
       "            <td>Semifinals</td>\n",
       "            <td>7/8/2022</td>\n",
       "            <td>124</td>\n",
       "            <td>Djokovic N.</td>\n",
       "            <td>Norrie C.</td>\n",
       "        </tr>\n",
       "        <tr>\n",
       "            <td>Wimbledon</td>\n",
       "            <td>London</td>\n",
       "            <td>Quarterfinals</td>\n",
       "            <td>7/6/2022</td>\n",
       "            <td>123</td>\n",
       "            <td>Kyrgios N.</td>\n",
       "            <td>Garin C.</td>\n",
       "        </tr>\n",
       "        <tr>\n",
       "            <td>Wimbledon</td>\n",
       "            <td>London</td>\n",
       "            <td>Quarterfinals</td>\n",
       "            <td>7/6/2022</td>\n",
       "            <td>122</td>\n",
       "            <td>Nadal R.</td>\n",
       "            <td>Fritz T.</td>\n",
       "        </tr>\n",
       "        <tr>\n",
       "            <td>Wimbledon</td>\n",
       "            <td>London</td>\n",
       "            <td>Quarterfinals</td>\n",
       "            <td>7/5/2022</td>\n",
       "            <td>121</td>\n",
       "            <td>Norrie C.</td>\n",
       "            <td>Goffin D.</td>\n",
       "        </tr>\n",
       "        <tr>\n",
       "            <td>Wimbledon</td>\n",
       "            <td>London</td>\n",
       "            <td>Quarterfinals</td>\n",
       "            <td>7/5/2022</td>\n",
       "            <td>120</td>\n",
       "            <td>Djokovic N.</td>\n",
       "            <td>Sinner J.</td>\n",
       "        </tr>\n",
       "        <tr>\n",
       "            <td>Wimbledon</td>\n",
       "            <td>London</td>\n",
       "            <td>4th Round</td>\n",
       "            <td>7/4/2022</td>\n",
       "            <td>119</td>\n",
       "            <td>Nadal R.</td>\n",
       "            <td>Van De Zandschulp B.</td>\n",
       "        </tr>\n",
       "        <tr>\n",
       "            <td>Wimbledon</td>\n",
       "            <td>London</td>\n",
       "            <td>4th Round</td>\n",
       "            <td>7/4/2022</td>\n",
       "            <td>118</td>\n",
       "            <td>Fritz T.</td>\n",
       "            <td>Kubler J.</td>\n",
       "        </tr>\n",
       "        <tr>\n",
       "            <td>Wimbledon</td>\n",
       "            <td>London</td>\n",
       "            <td>4th Round</td>\n",
       "            <td>7/4/2022</td>\n",
       "            <td>117</td>\n",
       "            <td>Kyrgios N.</td>\n",
       "            <td>Nakashima B.</td>\n",
       "        </tr>\n",
       "        <tr>\n",
       "            <td>Wimbledon</td>\n",
       "            <td>London</td>\n",
       "            <td>4th Round</td>\n",
       "            <td>7/4/2022</td>\n",
       "            <td>116</td>\n",
       "            <td>Garin C.</td>\n",
       "            <td>De Minaur A.</td>\n",
       "        </tr>\n",
       "        <tr>\n",
       "            <td>Wimbledon</td>\n",
       "            <td>London</td>\n",
       "            <td>4th Round</td>\n",
       "            <td>7/3/2022</td>\n",
       "            <td>115</td>\n",
       "            <td>Djokovic N.</td>\n",
       "            <td>Van Rijthoven T.</td>\n",
       "        </tr>\n",
       "        <tr>\n",
       "            <td>Wimbledon</td>\n",
       "            <td>London</td>\n",
       "            <td>4th Round</td>\n",
       "            <td>7/3/2022</td>\n",
       "            <td>114</td>\n",
       "            <td>Sinner J.</td>\n",
       "            <td>Alcaraz C.</td>\n",
       "        </tr>\n",
       "        <tr>\n",
       "            <td>Wimbledon</td>\n",
       "            <td>London</td>\n",
       "            <td>4th Round</td>\n",
       "            <td>7/3/2022</td>\n",
       "            <td>113</td>\n",
       "            <td>Norrie C.</td>\n",
       "            <td>Paul T.</td>\n",
       "        </tr>\n",
       "        <tr>\n",
       "            <td>Wimbledon</td>\n",
       "            <td>London</td>\n",
       "            <td>4th Round</td>\n",
       "            <td>7/3/2022</td>\n",
       "            <td>112</td>\n",
       "            <td>Goffin D.</td>\n",
       "            <td>Tiafoe F.</td>\n",
       "        </tr>\n",
       "    </tbody>\n",
       "</table>"
      ],
      "text/plain": [
       "+------------+----------+---------------+-----------+----------+-------------+----------------------+\n",
       "| Tournament | Location |     Round     |    Date   | Match_ID |    Winner   |        Loser         |\n",
       "+------------+----------+---------------+-----------+----------+-------------+----------------------+\n",
       "| Wimbledon  |  London  |   The Final   | 7/10/2022 |   126    | Djokovic N. |      Kyrgios N.      |\n",
       "| Wimbledon  |  London  |   Semifinals  |  7/8/2022 |   125    |  Kyrgios N. |       Nadal R.       |\n",
       "| Wimbledon  |  London  |   Semifinals  |  7/8/2022 |   124    | Djokovic N. |      Norrie C.       |\n",
       "| Wimbledon  |  London  | Quarterfinals |  7/6/2022 |   123    |  Kyrgios N. |       Garin C.       |\n",
       "| Wimbledon  |  London  | Quarterfinals |  7/6/2022 |   122    |   Nadal R.  |       Fritz T.       |\n",
       "| Wimbledon  |  London  | Quarterfinals |  7/5/2022 |   121    |  Norrie C.  |      Goffin D.       |\n",
       "| Wimbledon  |  London  | Quarterfinals |  7/5/2022 |   120    | Djokovic N. |      Sinner J.       |\n",
       "| Wimbledon  |  London  |   4th Round   |  7/4/2022 |   119    |   Nadal R.  | Van De Zandschulp B. |\n",
       "| Wimbledon  |  London  |   4th Round   |  7/4/2022 |   118    |   Fritz T.  |      Kubler J.       |\n",
       "| Wimbledon  |  London  |   4th Round   |  7/4/2022 |   117    |  Kyrgios N. |     Nakashima B.     |\n",
       "| Wimbledon  |  London  |   4th Round   |  7/4/2022 |   116    |   Garin C.  |     De Minaur A.     |\n",
       "| Wimbledon  |  London  |   4th Round   |  7/3/2022 |   115    | Djokovic N. |   Van Rijthoven T.   |\n",
       "| Wimbledon  |  London  |   4th Round   |  7/3/2022 |   114    |  Sinner J.  |      Alcaraz C.      |\n",
       "| Wimbledon  |  London  |   4th Round   |  7/3/2022 |   113    |  Norrie C.  |       Paul T.        |\n",
       "| Wimbledon  |  London  |   4th Round   |  7/3/2022 |   112    |  Goffin D.  |      Tiafoe F.       |\n",
       "+------------+----------+---------------+-----------+----------+-------------+----------------------+"
      ]
     },
     "execution_count": 50,
     "metadata": {},
     "output_type": "execute_result"
    }
   ],
   "source": [
    "assert response_index['Items'] == response_no_index['Items'], \"Differents queries results\"\n",
    "prettify_table(response_index['Items'], ['Tournament', 'Location', 'Round', 'Date', 'Match_ID', 'Winner', 'Loser'])"
   ]
  },
  {
   "cell_type": "markdown",
   "id": "41dfdd3b-459a-4a3a-b20a-a4caddfca4e5",
   "metadata": {},
   "source": [
    "5) Tutti i **giocatori** che hanno battuto un **giocatore** sopra in classifica al **vincitore** del torneo **Australian Open**:"
   ]
  },
  {
   "cell_type": "markdown",
   "id": "eac26352-4226-4e36-9ffa-ff130bca6bbe",
   "metadata": {},
   "source": [
    "Senza **GSI**:"
   ]
  },
  {
   "cell_type": "code",
   "execution_count": 51,
   "id": "6cebc3da-342f-4ea8-83e8-3c7a80292c19",
   "metadata": {
    "tags": []
   },
   "outputs": [
    {
     "name": "stdout",
     "output_type": "stream",
     "text": [
      "Tempo di esecuzione: 0.44 secondi\n"
     ]
    }
   ],
   "source": [
    "start_time = time.time()\n",
    "response_no_index = table.scan(FilterExpression = Attr('WRank').gt(10) &\n",
    "                            Attr('LRank').lt(\n",
    "                                table.scan(\n",
    "                                        FilterExpression = Attr('Round').eq('The Final') &\n",
    "                                        Attr('Tournament').eq('Australian Open'),\n",
    "                                        ProjectionExpression = 'WRank'\n",
    "                            )['Items'][0]['WRank']),\n",
    "                            ProjectionExpression='Tournament, #loc, Round, #d, Winner, Loser, WRank, LRank, WPts, LPts',    #Location, Date are reserved keywords\n",
    "                            ExpressionAttributeNames = {'#loc': 'Location', '#d': 'Date'}\n",
    "                            )\n",
    "end_time = time.time()\n",
    "execution_time_5_noindex  = end_time - start_time\n",
    "print(\"Tempo di esecuzione: %.2f secondi\" % execution_time_5_noindex)"
   ]
  },
  {
   "cell_type": "markdown",
   "id": "13353e8b-92af-407b-a3aa-9cd2bf44abc4",
   "metadata": {},
   "source": [
    "Con **GSI** nella query innestata:"
   ]
  },
  {
   "cell_type": "code",
   "execution_count": 52,
   "id": "c8c5dd5b-7041-43c0-89d4-cae658c42bd0",
   "metadata": {
    "tags": []
   },
   "outputs": [
    {
     "name": "stdout",
     "output_type": "stream",
     "text": [
      "Tempo di esecuzione: 0.22 secondi\n"
     ]
    }
   ],
   "source": [
    "start_time = time.time()\n",
    "response_index = table.scan(FilterExpression = Attr('WRank').gt(10) &\n",
    "                            Attr('LRank').lt(\n",
    "                                table.query(\n",
    "                                            KeyConditionExpression = Key('Tournament').eq('Australian Open'),\n",
    "                                            IndexName = \"TournamentIndex\",\n",
    "                                            FilterExpression = Attr('Round').eq('The Final'),\n",
    "                                            ProjectionExpression = 'WRank'\n",
    "                                )['Items'][0]['WRank']),\n",
    "                            ProjectionExpression='Tournament, #loc, Round, #d, Winner, Loser, WRank, LRank, WPts, LPts',    #Location, Date are reserved keywords\n",
    "                            ExpressionAttributeNames = {'#loc': 'Location', '#d': 'Date'}\n",
    "                            )\n",
    "end_time = time.time()\n",
    "execution_time_5_index  = end_time - start_time\n",
    "print(\"Tempo di esecuzione: %.2f secondi\" % execution_time_5_index)"
   ]
  },
  {
   "cell_type": "code",
   "execution_count": 53,
   "id": "ad10b0cb-5d26-48e1-866c-9f156ec96c6c",
   "metadata": {
    "tags": []
   },
   "outputs": [
    {
     "data": {
      "text/html": [
       "<table>\n",
       "    <thead>\n",
       "        <tr>\n",
       "            <th>Winner</th>\n",
       "            <th>WPts</th>\n",
       "            <th>WRank</th>\n",
       "            <th>Loser</th>\n",
       "            <th>LPts</th>\n",
       "            <th>LRank</th>\n",
       "            <th>Tournament</th>\n",
       "            <th>Location</th>\n",
       "            <th>Date</th>\n",
       "            <th>Round</th>\n",
       "        </tr>\n",
       "    </thead>\n",
       "    <tbody>\n",
       "        <tr>\n",
       "            <td>Munar J.</td>\n",
       "            <td>814</td>\n",
       "            <td>58</td>\n",
       "            <td>Ruud C.</td>\n",
       "            <td>5645</td>\n",
       "            <td>3</td>\n",
       "            <td>Rakuten Japan Open Tennis Championships</td>\n",
       "            <td>Tokyo</td>\n",
       "            <td>10/4/2022</td>\n",
       "            <td>1st Round</td>\n",
       "        </tr>\n",
       "        <tr>\n",
       "            <td>Davidovich Fokina A.</td>\n",
       "            <td>1095</td>\n",
       "            <td>46</td>\n",
       "            <td>Djokovic N.</td>\n",
       "            <td>8420</td>\n",
       "            <td>1</td>\n",
       "            <td>Monte Carlo Masters</td>\n",
       "            <td>Monte Carlo</td>\n",
       "            <td>4/12/2022</td>\n",
       "            <td>2nd Round</td>\n",
       "        </tr>\n",
       "        <tr>\n",
       "            <td>Goffin D.</td>\n",
       "            <td>770</td>\n",
       "            <td>66</td>\n",
       "            <td>Alcaraz C.</td>\n",
       "            <td>6740</td>\n",
       "            <td>1</td>\n",
       "            <td>Astana Open</td>\n",
       "            <td>Nur-Sultan</td>\n",
       "            <td>10/4/2022</td>\n",
       "            <td>1st Round</td>\n",
       "        </tr>\n",
       "        <tr>\n",
       "            <td>Gasquet R.</td>\n",
       "            <td>808</td>\n",
       "            <td>75</td>\n",
       "            <td>Medvedev D.</td>\n",
       "            <td>7980</td>\n",
       "            <td>2</td>\n",
       "            <td>Geneva Open</td>\n",
       "            <td>Geneva</td>\n",
       "            <td>5/17/2022</td>\n",
       "            <td>2nd Round</td>\n",
       "        </tr>\n",
       "        <tr>\n",
       "            <td>Wawrinka S.</td>\n",
       "            <td>175</td>\n",
       "            <td>284</td>\n",
       "            <td>Medvedev D.</td>\n",
       "            <td>5065</td>\n",
       "            <td>4</td>\n",
       "            <td>Open de Moselle</td>\n",
       "            <td>Metz</td>\n",
       "            <td>9/22/2022</td>\n",
       "            <td>2nd Round</td>\n",
       "        </tr>\n",
       "        <tr>\n",
       "            <td>De Minaur A.</td>\n",
       "            <td>1710</td>\n",
       "            <td>25</td>\n",
       "            <td>Medvedev D.</td>\n",
       "            <td>5655</td>\n",
       "            <td>3</td>\n",
       "            <td>BNP Paribas Masters</td>\n",
       "            <td>Paris</td>\n",
       "            <td>11/2/2022</td>\n",
       "            <td>2nd Round</td>\n",
       "        </tr>\n",
       "        <tr>\n",
       "            <td>Paul T.</td>\n",
       "            <td>1330</td>\n",
       "            <td>31</td>\n",
       "            <td>Nadal R.</td>\n",
       "            <td>5810</td>\n",
       "            <td>2</td>\n",
       "            <td>BNP Paribas Masters</td>\n",
       "            <td>Paris</td>\n",
       "            <td>11/2/2022</td>\n",
       "            <td>2nd Round</td>\n",
       "        </tr>\n",
       "        <tr>\n",
       "            <td>Musetti L.</td>\n",
       "            <td>1746</td>\n",
       "            <td>23</td>\n",
       "            <td>Ruud C.</td>\n",
       "            <td>5510</td>\n",
       "            <td>4</td>\n",
       "            <td>BNP Paribas Masters</td>\n",
       "            <td>Paris</td>\n",
       "            <td>11/3/2022</td>\n",
       "            <td>3rd Round</td>\n",
       "        </tr>\n",
       "        <tr>\n",
       "            <td>Rune H.</td>\n",
       "            <td>1991</td>\n",
       "            <td>18</td>\n",
       "            <td>Alcaraz C.</td>\n",
       "            <td>6730</td>\n",
       "            <td>1</td>\n",
       "            <td>BNP Paribas Masters</td>\n",
       "            <td>Paris</td>\n",
       "            <td>11/4/2022</td>\n",
       "            <td>Quarterfinals</td>\n",
       "        </tr>\n",
       "        <tr>\n",
       "            <td>Shapovalov D.</td>\n",
       "            <td>2593</td>\n",
       "            <td>14</td>\n",
       "            <td>Zverev A.</td>\n",
       "            <td>7970</td>\n",
       "            <td>3</td>\n",
       "            <td>Australian Open</td>\n",
       "            <td>Melbourne</td>\n",
       "            <td>1/23/2022</td>\n",
       "            <td>4th Round</td>\n",
       "        </tr>\n",
       "        <tr>\n",
       "            <td>Hurkacz H.</td>\n",
       "            <td>3258</td>\n",
       "            <td>12</td>\n",
       "            <td>Medvedev D.</td>\n",
       "            <td>7950</td>\n",
       "            <td>1</td>\n",
       "            <td>Halle Open</td>\n",
       "            <td>Halle</td>\n",
       "            <td>6/19/2022</td>\n",
       "            <td>The Final</td>\n",
       "        </tr>\n",
       "        <tr>\n",
       "            <td>Kyrgios N.</td>\n",
       "            <td>1070</td>\n",
       "            <td>40</td>\n",
       "            <td>Nadal R.</td>\n",
       "            <td>6525</td>\n",
       "            <td>4</td>\n",
       "            <td>Wimbledon</td>\n",
       "            <td>London</td>\n",
       "            <td>7/8/2022</td>\n",
       "            <td>Semifinals</td>\n",
       "        </tr>\n",
       "        <tr>\n",
       "            <td>Bublik A.</td>\n",
       "            <td>1433</td>\n",
       "            <td>35</td>\n",
       "            <td>Zverev A.</td>\n",
       "            <td>7780</td>\n",
       "            <td>3</td>\n",
       "            <td>Open Sud de France</td>\n",
       "            <td>Montpellier</td>\n",
       "            <td>2/6/2022</td>\n",
       "            <td>The Final</td>\n",
       "        </tr>\n",
       "        <tr>\n",
       "            <td>Shapovalov D.</td>\n",
       "            <td>2671</td>\n",
       "            <td>16</td>\n",
       "            <td>Nadal R.</td>\n",
       "            <td>6435</td>\n",
       "            <td>4</td>\n",
       "            <td>Internazionali BNL d&#x27;Italia</td>\n",
       "            <td>Rome</td>\n",
       "            <td>5/12/2022</td>\n",
       "            <td>3rd Round</td>\n",
       "        </tr>\n",
       "        <tr>\n",
       "            <td>Musetti L.</td>\n",
       "            <td>871</td>\n",
       "            <td>66</td>\n",
       "            <td>Baez S.</td>\n",
       "            <td>4885</td>\n",
       "            <td>3</td>\n",
       "            <td>Barcelona Open</td>\n",
       "            <td>Barcelona</td>\n",
       "            <td>4/18/2022</td>\n",
       "            <td>1st Round</td>\n",
       "        </tr>\n",
       "        <tr>\n",
       "            <td>Paul T.</td>\n",
       "            <td>1220</td>\n",
       "            <td>34</td>\n",
       "            <td>Alcaraz C.</td>\n",
       "            <td>5035</td>\n",
       "            <td>4</td>\n",
       "            <td>Canadian Open</td>\n",
       "            <td>Montreal</td>\n",
       "            <td>8/10/2022</td>\n",
       "            <td>2nd Round</td>\n",
       "        </tr>\n",
       "        <tr>\n",
       "            <td>Kyrgios N.</td>\n",
       "            <td>1205</td>\n",
       "            <td>37</td>\n",
       "            <td>Medvedev D.</td>\n",
       "            <td>7875</td>\n",
       "            <td>1</td>\n",
       "            <td>Canadian Open</td>\n",
       "            <td>Montreal</td>\n",
       "            <td>8/10/2022</td>\n",
       "            <td>2nd Round</td>\n",
       "        </tr>\n",
       "        <tr>\n",
       "            <td>Safiullin R.</td>\n",
       "            <td>392</td>\n",
       "            <td>163</td>\n",
       "            <td>Tsitsipas S.</td>\n",
       "            <td>7355</td>\n",
       "            <td>4</td>\n",
       "            <td>Open 13</td>\n",
       "            <td>Marseille</td>\n",
       "            <td>2/18/2022</td>\n",
       "            <td>Quarterfinals</td>\n",
       "        </tr>\n",
       "        <tr>\n",
       "            <td>Korda S.</td>\n",
       "            <td>815</td>\n",
       "            <td>54</td>\n",
       "            <td>Baez S.</td>\n",
       "            <td>4030</td>\n",
       "            <td>4</td>\n",
       "            <td>Citi Open</td>\n",
       "            <td>Washington</td>\n",
       "            <td>8/3/2022</td>\n",
       "            <td>2nd Round</td>\n",
       "        </tr>\n",
       "        <tr>\n",
       "            <td>Wawrinka S.</td>\n",
       "            <td>277</td>\n",
       "            <td>194</td>\n",
       "            <td>Ruud C.</td>\n",
       "            <td>5600</td>\n",
       "            <td>3</td>\n",
       "            <td>Swiss Indoors</td>\n",
       "            <td>Basel</td>\n",
       "            <td>10/25/2022</td>\n",
       "            <td>1st Round</td>\n",
       "        </tr>\n",
       "        <tr>\n",
       "            <td>Rune H.</td>\n",
       "            <td>859</td>\n",
       "            <td>70</td>\n",
       "            <td>Zverev A.</td>\n",
       "            <td>7465</td>\n",
       "            <td>3</td>\n",
       "            <td>BMW Open</td>\n",
       "            <td>Munich</td>\n",
       "            <td>4/27/2022</td>\n",
       "            <td>2nd Round</td>\n",
       "        </tr>\n",
       "        <tr>\n",
       "            <td>Vesely J.</td>\n",
       "            <td>550</td>\n",
       "            <td>123</td>\n",
       "            <td>Djokovic N.</td>\n",
       "            <td>8875</td>\n",
       "            <td>1</td>\n",
       "            <td>Dubai Tennis Championships</td>\n",
       "            <td>Dubai</td>\n",
       "            <td>2/24/2022</td>\n",
       "            <td>Quarterfinals</td>\n",
       "        </tr>\n",
       "        <tr>\n",
       "            <td>Paul T.</td>\n",
       "            <td>1252</td>\n",
       "            <td>39</td>\n",
       "            <td>Zverev A.</td>\n",
       "            <td>7515</td>\n",
       "            <td>3</td>\n",
       "            <td>BNP Paribas Open</td>\n",
       "            <td>Indian Wells</td>\n",
       "            <td>3/14/2022</td>\n",
       "            <td>2nd Round</td>\n",
       "        </tr>\n",
       "        <tr>\n",
       "            <td>Monfils G.</td>\n",
       "            <td>1633</td>\n",
       "            <td>28</td>\n",
       "            <td>Medvedev D.</td>\n",
       "            <td>8615</td>\n",
       "            <td>1</td>\n",
       "            <td>BNP Paribas Open</td>\n",
       "            <td>Indian Wells</td>\n",
       "            <td>3/14/2022</td>\n",
       "            <td>3rd Round</td>\n",
       "        </tr>\n",
       "        <tr>\n",
       "            <td>Fritz T.</td>\n",
       "            <td>2010</td>\n",
       "            <td>20</td>\n",
       "            <td>Nadal R.</td>\n",
       "            <td>6515</td>\n",
       "            <td>4</td>\n",
       "            <td>BNP Paribas Open</td>\n",
       "            <td>Indian Wells</td>\n",
       "            <td>3/20/2022</td>\n",
       "            <td>The Final</td>\n",
       "        </tr>\n",
       "        <tr>\n",
       "            <td>Nishioka Y.</td>\n",
       "            <td>827</td>\n",
       "            <td>56</td>\n",
       "            <td>Ruud C.</td>\n",
       "            <td>5850</td>\n",
       "            <td>2</td>\n",
       "            <td>Korea Open</td>\n",
       "            <td>Seoul</td>\n",
       "            <td>9/30/2022</td>\n",
       "            <td>Quarterfinals</td>\n",
       "        </tr>\n",
       "        <tr>\n",
       "            <td>Rune H.</td>\n",
       "            <td>1159</td>\n",
       "            <td>40</td>\n",
       "            <td>Tsitsipas S.</td>\n",
       "            <td>5965</td>\n",
       "            <td>4</td>\n",
       "            <td>French Open</td>\n",
       "            <td>Paris</td>\n",
       "            <td>5/30/2022</td>\n",
       "            <td>4th Round</td>\n",
       "        </tr>\n",
       "        <tr>\n",
       "            <td>Cilic M.</td>\n",
       "            <td>1695</td>\n",
       "            <td>23</td>\n",
       "            <td>Medvedev D.</td>\n",
       "            <td>7980</td>\n",
       "            <td>2</td>\n",
       "            <td>French Open</td>\n",
       "            <td>Paris</td>\n",
       "            <td>5/30/2022</td>\n",
       "            <td>4th Round</td>\n",
       "        </tr>\n",
       "        <tr>\n",
       "            <td>Bautista Agut R.</td>\n",
       "            <td>1903</td>\n",
       "            <td>20</td>\n",
       "            <td>Medvedev D.</td>\n",
       "            <td>8160</td>\n",
       "            <td>1</td>\n",
       "            <td>Mallorca Championships</td>\n",
       "            <td>Mallorca</td>\n",
       "            <td>6/23/2022</td>\n",
       "            <td>Quarterfinals</td>\n",
       "        </tr>\n",
       "        <tr>\n",
       "            <td>Gojowczyk P.</td>\n",
       "            <td>705</td>\n",
       "            <td>95</td>\n",
       "            <td>Zverev A.</td>\n",
       "            <td>7515</td>\n",
       "            <td>3</td>\n",
       "            <td>Abierto Mexicano</td>\n",
       "            <td>Acapulco</td>\n",
       "            <td>2/24/2022</td>\n",
       "            <td>2nd Round</td>\n",
       "        </tr>\n",
       "        <tr>\n",
       "            <td>Norrie C.</td>\n",
       "            <td>3070</td>\n",
       "            <td>12</td>\n",
       "            <td>Tsitsipas S.</td>\n",
       "            <td>6565</td>\n",
       "            <td>4</td>\n",
       "            <td>Abierto Mexicano</td>\n",
       "            <td>Acapulco</td>\n",
       "            <td>2/26/2022</td>\n",
       "            <td>Semifinals</td>\n",
       "        </tr>\n",
       "        <tr>\n",
       "            <td>Coric B.</td>\n",
       "            <td>360</td>\n",
       "            <td>152</td>\n",
       "            <td>Nadal R.</td>\n",
       "            <td>5620</td>\n",
       "            <td>3</td>\n",
       "            <td>Western &amp; Southern Financial Group Masters</td>\n",
       "            <td>Cincinnati</td>\n",
       "            <td>8/18/2022</td>\n",
       "            <td>2nd Round</td>\n",
       "        </tr>\n",
       "        <tr>\n",
       "            <td>Norrie C.</td>\n",
       "            <td>3065</td>\n",
       "            <td>11</td>\n",
       "            <td>Alcaraz C.</td>\n",
       "            <td>5045</td>\n",
       "            <td>4</td>\n",
       "            <td>Western &amp; Southern Financial Group Masters</td>\n",
       "            <td>Cincinnati</td>\n",
       "            <td>8/20/2022</td>\n",
       "            <td>Quarterfinals</td>\n",
       "        </tr>\n",
       "        <tr>\n",
       "            <td>Van Rijthoven T.</td>\n",
       "            <td>298</td>\n",
       "            <td>205</td>\n",
       "            <td>Medvedev D.</td>\n",
       "            <td>8160</td>\n",
       "            <td>2</td>\n",
       "            <td>Rosmalen Grass Court Championships</td>\n",
       "            <td>&#x27;s-Hertogenbosch</td>\n",
       "            <td>6/12/2022</td>\n",
       "            <td>The Final</td>\n",
       "        </tr>\n",
       "        <tr>\n",
       "            <td>Kyrgios N.</td>\n",
       "            <td>1430</td>\n",
       "            <td>25</td>\n",
       "            <td>Medvedev D.</td>\n",
       "            <td>6885</td>\n",
       "            <td>1</td>\n",
       "            <td>US Open</td>\n",
       "            <td>New York</td>\n",
       "            <td>9/5/2022</td>\n",
       "            <td>4th Round</td>\n",
       "        </tr>\n",
       "        <tr>\n",
       "            <td>Tiafoe F.</td>\n",
       "            <td>1400</td>\n",
       "            <td>26</td>\n",
       "            <td>Nadal R.</td>\n",
       "            <td>5630</td>\n",
       "            <td>3</td>\n",
       "            <td>US Open</td>\n",
       "            <td>New York</td>\n",
       "            <td>9/5/2022</td>\n",
       "            <td>4th Round</td>\n",
       "        </tr>\n",
       "    </tbody>\n",
       "</table>"
      ],
      "text/plain": [
       "+----------------------+------+-------+--------------+------+-------+--------------------------------------------+------------------+------------+---------------+\n",
       "|        Winner        | WPts | WRank |    Loser     | LPts | LRank |                 Tournament                 |     Location     |    Date    |     Round     |\n",
       "+----------------------+------+-------+--------------+------+-------+--------------------------------------------+------------------+------------+---------------+\n",
       "|       Munar J.       | 814  |   58  |   Ruud C.    | 5645 |   3   |  Rakuten Japan Open Tennis Championships   |      Tokyo       | 10/4/2022  |   1st Round   |\n",
       "| Davidovich Fokina A. | 1095 |   46  | Djokovic N.  | 8420 |   1   |            Monte Carlo Masters             |   Monte Carlo    | 4/12/2022  |   2nd Round   |\n",
       "|      Goffin D.       | 770  |   66  |  Alcaraz C.  | 6740 |   1   |                Astana Open                 |    Nur-Sultan    | 10/4/2022  |   1st Round   |\n",
       "|      Gasquet R.      | 808  |   75  | Medvedev D.  | 7980 |   2   |                Geneva Open                 |      Geneva      | 5/17/2022  |   2nd Round   |\n",
       "|     Wawrinka S.      | 175  |  284  | Medvedev D.  | 5065 |   4   |              Open de Moselle               |       Metz       | 9/22/2022  |   2nd Round   |\n",
       "|     De Minaur A.     | 1710 |   25  | Medvedev D.  | 5655 |   3   |            BNP Paribas Masters             |      Paris       | 11/2/2022  |   2nd Round   |\n",
       "|       Paul T.        | 1330 |   31  |   Nadal R.   | 5810 |   2   |            BNP Paribas Masters             |      Paris       | 11/2/2022  |   2nd Round   |\n",
       "|      Musetti L.      | 1746 |   23  |   Ruud C.    | 5510 |   4   |            BNP Paribas Masters             |      Paris       | 11/3/2022  |   3rd Round   |\n",
       "|       Rune H.        | 1991 |   18  |  Alcaraz C.  | 6730 |   1   |            BNP Paribas Masters             |      Paris       | 11/4/2022  | Quarterfinals |\n",
       "|    Shapovalov D.     | 2593 |   14  |  Zverev A.   | 7970 |   3   |              Australian Open               |    Melbourne     | 1/23/2022  |   4th Round   |\n",
       "|      Hurkacz H.      | 3258 |   12  | Medvedev D.  | 7950 |   1   |                 Halle Open                 |      Halle       | 6/19/2022  |   The Final   |\n",
       "|      Kyrgios N.      | 1070 |   40  |   Nadal R.   | 6525 |   4   |                 Wimbledon                  |      London      |  7/8/2022  |   Semifinals  |\n",
       "|      Bublik A.       | 1433 |   35  |  Zverev A.   | 7780 |   3   |             Open Sud de France             |   Montpellier    |  2/6/2022  |   The Final   |\n",
       "|    Shapovalov D.     | 2671 |   16  |   Nadal R.   | 6435 |   4   |        Internazionali BNL d'Italia         |       Rome       | 5/12/2022  |   3rd Round   |\n",
       "|      Musetti L.      | 871  |   66  |   Baez S.    | 4885 |   3   |               Barcelona Open               |    Barcelona     | 4/18/2022  |   1st Round   |\n",
       "|       Paul T.        | 1220 |   34  |  Alcaraz C.  | 5035 |   4   |               Canadian Open                |     Montreal     | 8/10/2022  |   2nd Round   |\n",
       "|      Kyrgios N.      | 1205 |   37  | Medvedev D.  | 7875 |   1   |               Canadian Open                |     Montreal     | 8/10/2022  |   2nd Round   |\n",
       "|     Safiullin R.     | 392  |  163  | Tsitsipas S. | 7355 |   4   |                  Open 13                   |    Marseille     | 2/18/2022  | Quarterfinals |\n",
       "|       Korda S.       | 815  |   54  |   Baez S.    | 4030 |   4   |                 Citi Open                  |    Washington    |  8/3/2022  |   2nd Round   |\n",
       "|     Wawrinka S.      | 277  |  194  |   Ruud C.    | 5600 |   3   |               Swiss Indoors                |      Basel       | 10/25/2022 |   1st Round   |\n",
       "|       Rune H.        | 859  |   70  |  Zverev A.   | 7465 |   3   |                  BMW Open                  |      Munich      | 4/27/2022  |   2nd Round   |\n",
       "|      Vesely J.       | 550  |  123  | Djokovic N.  | 8875 |   1   |         Dubai Tennis Championships         |      Dubai       | 2/24/2022  | Quarterfinals |\n",
       "|       Paul T.        | 1252 |   39  |  Zverev A.   | 7515 |   3   |              BNP Paribas Open              |   Indian Wells   | 3/14/2022  |   2nd Round   |\n",
       "|      Monfils G.      | 1633 |   28  | Medvedev D.  | 8615 |   1   |              BNP Paribas Open              |   Indian Wells   | 3/14/2022  |   3rd Round   |\n",
       "|       Fritz T.       | 2010 |   20  |   Nadal R.   | 6515 |   4   |              BNP Paribas Open              |   Indian Wells   | 3/20/2022  |   The Final   |\n",
       "|     Nishioka Y.      | 827  |   56  |   Ruud C.    | 5850 |   2   |                 Korea Open                 |      Seoul       | 9/30/2022  | Quarterfinals |\n",
       "|       Rune H.        | 1159 |   40  | Tsitsipas S. | 5965 |   4   |                French Open                 |      Paris       | 5/30/2022  |   4th Round   |\n",
       "|       Cilic M.       | 1695 |   23  | Medvedev D.  | 7980 |   2   |                French Open                 |      Paris       | 5/30/2022  |   4th Round   |\n",
       "|   Bautista Agut R.   | 1903 |   20  | Medvedev D.  | 8160 |   1   |           Mallorca Championships           |     Mallorca     | 6/23/2022  | Quarterfinals |\n",
       "|     Gojowczyk P.     | 705  |   95  |  Zverev A.   | 7515 |   3   |              Abierto Mexicano              |     Acapulco     | 2/24/2022  |   2nd Round   |\n",
       "|      Norrie C.       | 3070 |   12  | Tsitsipas S. | 6565 |   4   |              Abierto Mexicano              |     Acapulco     | 2/26/2022  |   Semifinals  |\n",
       "|       Coric B.       | 360  |  152  |   Nadal R.   | 5620 |   3   | Western & Southern Financial Group Masters |    Cincinnati    | 8/18/2022  |   2nd Round   |\n",
       "|      Norrie C.       | 3065 |   11  |  Alcaraz C.  | 5045 |   4   | Western & Southern Financial Group Masters |    Cincinnati    | 8/20/2022  | Quarterfinals |\n",
       "|   Van Rijthoven T.   | 298  |  205  | Medvedev D.  | 8160 |   2   |     Rosmalen Grass Court Championships     | 's-Hertogenbosch | 6/12/2022  |   The Final   |\n",
       "|      Kyrgios N.      | 1430 |   25  | Medvedev D.  | 6885 |   1   |                  US Open                   |     New York     |  9/5/2022  |   4th Round   |\n",
       "|      Tiafoe F.       | 1400 |   26  |   Nadal R.   | 5630 |   3   |                  US Open                   |     New York     |  9/5/2022  |   4th Round   |\n",
       "+----------------------+------+-------+--------------+------+-------+--------------------------------------------+------------------+------------+---------------+"
      ]
     },
     "execution_count": 53,
     "metadata": {},
     "output_type": "execute_result"
    }
   ],
   "source": [
    "assert response_index['Items'] == response_no_index['Items'], \"Differents queries results\"\n",
    "prettify_table(response_no_index['Items'], ['Winner', 'WPts', 'WRank', 'Loser', 'LPts', 'LRank', 'Tournament', 'Location', 'Date', 'Round'])"
   ]
  },
  {
   "cell_type": "markdown",
   "id": "6d954186-22bb-488f-9055-80ed365b512d",
   "metadata": {},
   "source": [
    "# **Analisi** delle **tempistiche delle query**"
   ]
  },
  {
   "cell_type": "code",
   "execution_count": 54,
   "id": "67ea23b9-e745-45c3-a3d9-d3380458a64d",
   "metadata": {
    "tags": []
   },
   "outputs": [],
   "source": [
    "APPROX = 2"
   ]
  },
  {
   "cell_type": "code",
   "execution_count": 55,
   "id": "66d3b5b0-e6f6-4843-86f1-f405272d5ef0",
   "metadata": {
    "jupyter": {
     "source_hidden": true
    },
    "tags": []
   },
   "outputs": [],
   "source": [
    "time_analysis = []\n",
    "time_analysis.append({'Number': 1, \n",
    "                      'Query type': 'Key-value search', \n",
    "                      'Index type': 'Primary Key',\n",
    "                      'Time without index (s)': round(execution_time_1_noindex, APPROX), \n",
    "                      'Time with index (s)': round(execution_time_1_index, APPROX), \n",
    "                      'Time saved (s)': round(execution_time_1_noindex - execution_time_1_index, APPROX),\n",
    "                      'Time saved (%)': round((execution_time_1_noindex - execution_time_1_index) / execution_time_1_noindex, APPROX)\n",
    "                     })\n",
    "\n",
    "time_analysis.append({'Number': 2, \n",
    "                      'Query type': 'Range query', \n",
    "                      'Index type': 'LSI',\n",
    "                      'Time without index (s)': round(execution_time_2_noindex, APPROX), \n",
    "                      'Time with index (s)': round(execution_time_2_index, APPROX), \n",
    "                      'Time saved (s)': round(execution_time_2_noindex - execution_time_2_index, APPROX),\n",
    "                      'Time saved (%)': round((execution_time_2_noindex - execution_time_2_index) / execution_time_2_noindex, APPROX)\n",
    "                     })\n",
    "\n",
    "time_analysis.append({'Number': 3, \n",
    "                      'Query type': 'Multiple selections', \n",
    "                      'Index type': '',\n",
    "                      'Time without index (s)': round(execution_time_3, APPROX), \n",
    "                      'Time with index (s)': '',\n",
    "                      'Time saved (s)': '',\n",
    "                      'Time saved (%)': ''\n",
    "                     })\n",
    "\n",
    "time_analysis.append({'Number': 4, \n",
    "                      'Query type': 'Desc ordered selection', \n",
    "                      'Index type': 'GSI',\n",
    "                      'Time without index (s)': round(execution_time_4_noindex, APPROX), \n",
    "                      'Time with index (s)': round(execution_time_4_index, APPROX), \n",
    "                      'Time saved (s)': round(execution_time_4_noindex - execution_time_4_index, APPROX),\n",
    "                      'Time saved (%)': round((execution_time_4_noindex - execution_time_4_index) / execution_time_4_noindex, APPROX)\n",
    "                     })\n",
    "\n",
    "time_analysis.append({'Number': 5, \n",
    "                      'Query type': 'Nested query', \n",
    "                      'Index type': 'GSI on nested query',\n",
    "                      'Time without index (s)': round(execution_time_5_noindex, APPROX), \n",
    "                      'Time with index (s)': round(execution_time_5_index, APPROX), \n",
    "                      'Time saved (s)': round(execution_time_5_noindex - execution_time_5_index, APPROX),\n",
    "                      'Time saved (%)': round((execution_time_5_noindex - execution_time_5_index) / execution_time_5_noindex, APPROX)\n",
    "                     })"
   ]
  },
  {
   "cell_type": "code",
   "execution_count": 56,
   "id": "695ed97c-9484-45a5-8bdf-457ee08bb940",
   "metadata": {
    "tags": []
   },
   "outputs": [
    {
     "data": {
      "text/html": [
       "<table>\n",
       "    <thead>\n",
       "        <tr>\n",
       "            <th>Number</th>\n",
       "            <th>Query type</th>\n",
       "            <th>Index type</th>\n",
       "            <th>Time without index (s)</th>\n",
       "            <th>Time with index (s)</th>\n",
       "            <th>Time saved (s)</th>\n",
       "            <th>Time saved (%)</th>\n",
       "        </tr>\n",
       "    </thead>\n",
       "    <tbody>\n",
       "        <tr>\n",
       "            <td>1</td>\n",
       "            <td>Key-value search</td>\n",
       "            <td>Primary Key</td>\n",
       "            <td>0.15</td>\n",
       "            <td>0.02</td>\n",
       "            <td>0.12</td>\n",
       "            <td>0.85</td>\n",
       "        </tr>\n",
       "        <tr>\n",
       "            <td>2</td>\n",
       "            <td>Range query</td>\n",
       "            <td>LSI</td>\n",
       "            <td>0.35</td>\n",
       "            <td>0.03</td>\n",
       "            <td>0.32</td>\n",
       "            <td>0.91</td>\n",
       "        </tr>\n",
       "        <tr>\n",
       "            <td>3</td>\n",
       "            <td>Multiple selections</td>\n",
       "            <td></td>\n",
       "            <td>0.33</td>\n",
       "            <td></td>\n",
       "            <td></td>\n",
       "            <td></td>\n",
       "        </tr>\n",
       "        <tr>\n",
       "            <td>4</td>\n",
       "            <td>Desc ordered selection</td>\n",
       "            <td>GSI</td>\n",
       "            <td>0.83</td>\n",
       "            <td>0.01</td>\n",
       "            <td>0.83</td>\n",
       "            <td>0.99</td>\n",
       "        </tr>\n",
       "        <tr>\n",
       "            <td>5</td>\n",
       "            <td>Nested query</td>\n",
       "            <td>GSI on nested query</td>\n",
       "            <td>0.44</td>\n",
       "            <td>0.22</td>\n",
       "            <td>0.22</td>\n",
       "            <td>0.5</td>\n",
       "        </tr>\n",
       "    </tbody>\n",
       "</table>"
      ],
      "text/plain": [
       "+--------+------------------------+---------------------+------------------------+---------------------+----------------+----------------+\n",
       "| Number |       Query type       |      Index type     | Time without index (s) | Time with index (s) | Time saved (s) | Time saved (%) |\n",
       "+--------+------------------------+---------------------+------------------------+---------------------+----------------+----------------+\n",
       "|   1    |    Key-value search    |     Primary Key     |          0.15          |         0.02        |      0.12      |      0.85      |\n",
       "|   2    |      Range query       |         LSI         |          0.35          |         0.03        |      0.32      |      0.91      |\n",
       "|   3    |  Multiple selections   |                     |          0.33          |                     |                |                |\n",
       "|   4    | Desc ordered selection |         GSI         |          0.83          |         0.01        |      0.83      |      0.99      |\n",
       "|   5    |      Nested query      | GSI on nested query |          0.44          |         0.22        |      0.22      |      0.5       |\n",
       "+--------+------------------------+---------------------+------------------------+---------------------+----------------+----------------+"
      ]
     },
     "execution_count": 56,
     "metadata": {},
     "output_type": "execute_result"
    }
   ],
   "source": [
    "prettify_table(time_analysis)"
   ]
  },
  {
   "cell_type": "markdown",
   "id": "19cd88b6-11db-4354-a479-99fd34959624",
   "metadata": {
    "tags": []
   },
   "source": [
    "## **Delete** di una tabella"
   ]
  },
  {
   "cell_type": "code",
   "execution_count": 57,
   "id": "268fc286-35ec-40c9-9dc0-d2db23ad63c8",
   "metadata": {
    "tags": []
   },
   "outputs": [
    {
     "data": {
      "text/plain": [
       "{'TableDescription': {'AttributeDefinitions': [{'AttributeName': 'Match_ID',\n",
       "    'AttributeType': 'N'},\n",
       "   {'AttributeName': 'ATP', 'AttributeType': 'N'},\n",
       "   {'AttributeName': 'Tournament', 'AttributeType': 'S'}],\n",
       "  'TableName': 'atp_2022',\n",
       "  'KeySchema': [{'AttributeName': 'ATP', 'KeyType': 'HASH'},\n",
       "   {'AttributeName': 'Match_ID', 'KeyType': 'RANGE'}],\n",
       "  'TableStatus': 'ACTIVE',\n",
       "  'CreationDateTime': datetime.datetime(2023, 5, 30, 16, 51, 34, 967000, tzinfo=tzlocal()),\n",
       "  'ProvisionedThroughput': {'LastIncreaseDateTime': datetime.datetime(1970, 1, 1, 0, 0, tzinfo=tzlocal()),\n",
       "   'LastDecreaseDateTime': datetime.datetime(1970, 1, 1, 0, 0, tzinfo=tzlocal()),\n",
       "   'NumberOfDecreasesToday': 0,\n",
       "   'ReadCapacityUnits': 2,\n",
       "   'WriteCapacityUnits': 2},\n",
       "  'TableSizeBytes': 820115,\n",
       "  'ItemCount': 2631,\n",
       "  'TableArn': 'arn:aws:dynamodb:ddblocal:000000000000:table/atp_2022',\n",
       "  'GlobalSecondaryIndexes': [{'IndexName': 'TournamentIndex',\n",
       "    'KeySchema': [{'AttributeName': 'Tournament', 'KeyType': 'HASH'},\n",
       "     {'AttributeName': 'Match_ID', 'KeyType': 'RANGE'}],\n",
       "    'Projection': {'ProjectionType': 'ALL'},\n",
       "    'IndexStatus': 'ACTIVE',\n",
       "    'ProvisionedThroughput': {'ReadCapacityUnits': 1, 'WriteCapacityUnits': 1},\n",
       "    'IndexSizeBytes': 820115,\n",
       "    'ItemCount': 2631,\n",
       "    'IndexArn': 'arn:aws:dynamodb:ddblocal:000000000000:table/atp_2022/index/TournamentIndex'}]},\n",
       " 'ResponseMetadata': {'RequestId': 'ac3ce3b7-f8d7-49b4-bd78-2a69e3995f88',\n",
       "  'HTTPStatusCode': 200,\n",
       "  'HTTPHeaders': {'date': 'Tue, 30 May 2023 16:52:01 GMT',\n",
       "   'x-amzn-requestid': 'ac3ce3b7-f8d7-49b4-bd78-2a69e3995f88',\n",
       "   'content-type': 'application/x-amz-json-1.0',\n",
       "   'x-amz-crc32': '4138856371',\n",
       "   'content-length': '1067',\n",
       "   'server': 'Jetty(9.4.48.v20220622)'},\n",
       "  'RetryAttempts': 0}}"
      ]
     },
     "execution_count": 57,
     "metadata": {},
     "output_type": "execute_result"
    }
   ],
   "source": [
    "dynamoDB_client.delete_table(TableName='atp_2022')"
   ]
  },
  {
   "cell_type": "code",
   "execution_count": 58,
   "id": "dcc7d20b-fad2-4382-9e87-9483a1d467e7",
   "metadata": {
    "tags": []
   },
   "outputs": [
    {
     "data": {
      "text/plain": [
       "{'TableDescription': {'AttributeDefinitions': [{'AttributeName': 'ATP',\n",
       "    'AttributeType': 'N'},\n",
       "   {'AttributeName': 'Match_ID', 'AttributeType': 'N'},\n",
       "   {'AttributeName': 'Date', 'AttributeType': 'S'}],\n",
       "  'TableName': 'atp_2022_local_index',\n",
       "  'KeySchema': [{'AttributeName': 'ATP', 'KeyType': 'HASH'},\n",
       "   {'AttributeName': 'Match_ID', 'KeyType': 'RANGE'}],\n",
       "  'TableStatus': 'ACTIVE',\n",
       "  'CreationDateTime': datetime.datetime(2023, 5, 30, 16, 51, 35, 35000, tzinfo=tzlocal()),\n",
       "  'ProvisionedThroughput': {'LastIncreaseDateTime': datetime.datetime(1970, 1, 1, 0, 0, tzinfo=tzlocal()),\n",
       "   'LastDecreaseDateTime': datetime.datetime(1970, 1, 1, 0, 0, tzinfo=tzlocal()),\n",
       "   'NumberOfDecreasesToday': 0,\n",
       "   'ReadCapacityUnits': 2,\n",
       "   'WriteCapacityUnits': 2},\n",
       "  'TableSizeBytes': 820451,\n",
       "  'ItemCount': 2632,\n",
       "  'TableArn': 'arn:aws:dynamodb:ddblocal:000000000000:table/atp_2022_local_index',\n",
       "  'LocalSecondaryIndexes': [{'IndexName': 'DateIndex',\n",
       "    'KeySchema': [{'AttributeName': 'ATP', 'KeyType': 'HASH'},\n",
       "     {'AttributeName': 'Date', 'KeyType': 'RANGE'}],\n",
       "    'Projection': {'ProjectionType': 'ALL'},\n",
       "    'IndexSizeBytes': 820451,\n",
       "    'ItemCount': 2632,\n",
       "    'IndexArn': 'arn:aws:dynamodb:ddblocal:000000000000:table/atp_2022_local_index/index/DateIndex'}]},\n",
       " 'ResponseMetadata': {'RequestId': '88a8375d-132a-4a78-8cb7-b272a63c87c2',\n",
       "  'HTTPStatusCode': 200,\n",
       "  'HTTPHeaders': {'date': 'Tue, 30 May 2023 16:52:01 GMT',\n",
       "   'x-amzn-requestid': '88a8375d-132a-4a78-8cb7-b272a63c87c2',\n",
       "   'content-type': 'application/x-amz-json-1.0',\n",
       "   'x-amz-crc32': '2785246211',\n",
       "   'content-length': '979',\n",
       "   'server': 'Jetty(9.4.48.v20220622)'},\n",
       "  'RetryAttempts': 0}}"
      ]
     },
     "execution_count": 58,
     "metadata": {},
     "output_type": "execute_result"
    }
   ],
   "source": [
    "dynamoDB_client.delete_table(TableName='atp_2022_local_index')"
   ]
  },
  {
   "cell_type": "markdown",
   "id": "83de3327-9f34-44a6-b3a3-7d1a47b06ae4",
   "metadata": {},
   "source": [
    "# Contributors\n",
    "- **Volpato Mattia 866316**\n",
    "- **Bazzocchi Tommaso 869095**"
   ]
  },
  {
   "cell_type": "code",
   "execution_count": null,
   "id": "8fc0b6cd-dadb-45fa-9926-188ac80a6b86",
   "metadata": {},
   "outputs": [],
   "source": []
  }
 ],
 "metadata": {
  "kernelspec": {
   "display_name": "Python 3 (ipykernel)",
   "language": "python",
   "name": "python3"
  },
  "language_info": {
   "codemirror_mode": {
    "name": "ipython",
    "version": 3
   },
   "file_extension": ".py",
   "mimetype": "text/x-python",
   "name": "python",
   "nbconvert_exporter": "python",
   "pygments_lexer": "ipython3",
   "version": "3.10.10"
  }
 },
 "nbformat": 4,
 "nbformat_minor": 5
}
